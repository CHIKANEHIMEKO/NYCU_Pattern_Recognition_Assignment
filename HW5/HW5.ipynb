{
 "cells": [
  {
   "cell_type": "code",
   "execution_count": null,
   "metadata": {
    "id": "hFTLyjsek_kY"
   },
   "outputs": [],
   "source": [
    "import os\n",
    "import numpy as np\n",
    "\n",
    "import keras\n",
    "from keras.models import Sequential\n",
    "from keras.layers import Dense, Activation, Flatten, Conv2D, MaxPooling2D\n",
    "from sklearn.metrics import accuracy_score\n",
    "from tensorflow.keras.utils import to_categorical"
   ]
  },
  {
   "cell_type": "markdown",
   "metadata": {
    "id": "_y4TZA5Rk_kb"
   },
   "source": [
    "## Download dataset \n",
    "https://drive.google.com/drive/u/3/folders/1sHh6NvuKX6RB5OytLwf4kaqfQ9svJNDQ"
   ]
  },
  {
   "cell_type": "markdown",
   "metadata": {
    "id": "KRoFuK8ok_kc"
   },
   "source": [
    "## Load data"
   ]
  },
  {
   "cell_type": "markdown",
   "metadata": {},
   "source": [
    "Cause I use Colab to train my model, I need to add following codes to access the data. "
   ]
  },
  {
   "cell_type": "code",
   "execution_count": null,
   "metadata": {
    "colab": {
     "base_uri": "https://localhost:8080/"
    },
    "executionInfo": {
     "elapsed": 17788,
     "status": "ok",
     "timestamp": 1624166475370,
     "user": {
      "displayName": "周芝妤",
      "photoUrl": "",
      "userId": "05892310229498868316"
     },
     "user_tz": -480
    },
    "id": "_b6ccCTi03YG",
    "outputId": "0974091f-083a-4bc6-8146-eb66ce7fb1dd"
   },
   "outputs": [
    {
     "name": "stdout",
     "output_type": "stream",
     "text": [
      "E: Package 'python-software-properties' has no installation candidate\n",
      "Selecting previously unselected package google-drive-ocamlfuse.\n",
      "(Reading database ... 160772 files and directories currently installed.)\n",
      "Preparing to unpack .../google-drive-ocamlfuse_0.7.26-0ubuntu1~ubuntu18.04.1_amd64.deb ...\n",
      "Unpacking google-drive-ocamlfuse (0.7.26-0ubuntu1~ubuntu18.04.1) ...\n",
      "Setting up google-drive-ocamlfuse (0.7.26-0ubuntu1~ubuntu18.04.1) ...\n",
      "Processing triggers for man-db (2.8.3-2ubuntu0.1) ...\n"
     ]
    }
   ],
   "source": [
    "# Install a Drive FUSE wrapper.\n",
    "# https://github.com/astrada/google-drive-ocamlfuse\n",
    "!apt-get install - y - qq software-properties-common python-software-properties module-init-tools\n",
    "!add-apt-repository - y ppa: alessandro-strada/ppa 2 > &1 > /dev/null\n",
    "!apt-get update - qq 2 > &1 > /dev/null\n",
    "!apt-get - y install - qq google-drive-ocamlfuse fuse"
   ]
  },
  {
   "cell_type": "code",
   "execution_count": null,
   "metadata": {
    "id": "_799egPE04yd"
   },
   "outputs": [],
   "source": [
    "# Generate auth tokens for Colab\n",
    "\n",
    "from google.colab import auth\n",
    "auth.authenticate_user()"
   ]
  },
  {
   "cell_type": "code",
   "execution_count": null,
   "metadata": {
    "colab": {
     "base_uri": "https://localhost:8080/"
    },
    "executionInfo": {
     "elapsed": 9372,
     "status": "ok",
     "timestamp": 1624166488992,
     "user": {
      "displayName": "周芝妤",
      "photoUrl": "",
      "userId": "05892310229498868316"
     },
     "user_tz": -480
    },
    "id": "Ut7_imJT08BJ",
    "outputId": "7f49a7c3-0995-4386-aa81-4d710622ab8a"
   },
   "outputs": [
    {
     "name": "stdout",
     "output_type": "stream",
     "text": [
      "Please, open the following URL in a web browser: https://accounts.google.com/o/oauth2/auth?client_id=32555940559.apps.googleusercontent.com&redirect_uri=urn%3Aietf%3Awg%3Aoauth%3A2.0%3Aoob&scope=https%3A%2F%2Fwww.googleapis.com%2Fauth%2Fdrive&response_type=code&access_type=offline&approval_prompt=force\n",
      "··········\n",
      "Please, open the following URL in a web browser: https://accounts.google.com/o/oauth2/auth?client_id=32555940559.apps.googleusercontent.com&redirect_uri=urn%3Aietf%3Awg%3Aoauth%3A2.0%3Aoob&scope=https%3A%2F%2Fwww.googleapis.com%2Fauth%2Fdrive&response_type=code&access_type=offline&approval_prompt=force\n",
      "Please enter the verification code: Access token retrieved correctly.\n"
     ]
    }
   ],
   "source": [
    "# Generate creds for the Drive FUSE library.\n",
    "\n",
    "import getpass\n",
    "from oauth2client.client import GoogleCredentials\n",
    "creds = GoogleCredentials.get_application_default()\n",
    "!google-drive-ocamlfuse - headless - id = {creds.client_id} - secret = {creds.client_secret} < /dev/null 2 > &1 | grep URL\n",
    "vcode = getpass.getpass()\n",
    "!echo {vcode} | google-drive-ocamlfuse - headless - id = {creds.client_id} - secret = {creds.client_secret}"
   ]
  },
  {
   "cell_type": "code",
   "execution_count": null,
   "metadata": {
    "id": "jIcLE4RN0_qX"
   },
   "outputs": [],
   "source": [
    "# Create a directory and mount Google Drive using that directory.\n",
    "\n",
    "!mkdir - p drive\n",
    "!google-drive-ocamlfuse drive"
   ]
  },
  {
   "cell_type": "code",
   "execution_count": null,
   "metadata": {
    "colab": {
     "base_uri": "https://localhost:8080/"
    },
    "executionInfo": {
     "elapsed": 1377,
     "status": "ok",
     "timestamp": 1624166496823,
     "user": {
      "displayName": "周芝妤",
      "photoUrl": "",
      "userId": "05892310229498868316"
     },
     "user_tz": -480
    },
    "id": "4d2ETqWZ1EXe",
    "outputId": "feb6d8c8-a3cc-4761-dd9e-69260e112c62"
   },
   "outputs": [
    {
     "name": "stdout",
     "output_type": "stream",
     "text": [
      "Files in Drive:\n",
      "'Colab Notebooks'\n"
     ]
    }
   ],
   "source": [
    "print('Files in Drive:')\n",
    "!ls drive/"
   ]
  },
  {
   "cell_type": "code",
   "execution_count": null,
   "metadata": {
    "colab": {
     "base_uri": "https://localhost:8080/"
    },
    "executionInfo": {
     "elapsed": 6640,
     "status": "ok",
     "timestamp": 1624166504512,
     "user": {
      "displayName": "周芝妤",
      "photoUrl": "",
      "userId": "05892310229498868316"
     },
     "user_tz": -480
    },
    "id": "HyOfY9zXk_kc",
    "outputId": "e935a067-58bb-44bb-c9eb-200fd2cd4127"
   },
   "outputs": [
    {
     "name": "stdout",
     "output_type": "stream",
     "text": [
      "50000 train samples\n",
      "10000 test samples\n"
     ]
    }
   ],
   "source": [
    "x_train = np.load(\"drive/Colab Notebooks/x_train.npy\")\n",
    "y_train = np.load(\"drive/Colab Notebooks/y_train.npy\")\n",
    "\n",
    "x_test = np.load(\"drive/Colab Notebooks/x_test.npy\")\n",
    "y_test = np.load(\"drive/Colab Notebooks/y_test.npy\")\n",
    "\n",
    "print(x_train.shape[0], 'train samples')\n",
    "print(x_test.shape[0], 'test samples')"
   ]
  },
  {
   "cell_type": "code",
   "execution_count": null,
   "metadata": {
    "colab": {
     "base_uri": "https://localhost:8080/"
    },
    "executionInfo": {
     "elapsed": 271,
     "status": "ok",
     "timestamp": 1624166505811,
     "user": {
      "displayName": "周芝妤",
      "photoUrl": "",
      "userId": "05892310229498868316"
     },
     "user_tz": -480
    },
    "id": "FxeaPzdqk_kd",
    "outputId": "2def7888-c04c-4ba2-eb1a-4569073e4dfa"
   },
   "outputs": [
    {
     "name": "stdout",
     "output_type": "stream",
     "text": [
      "[0 1 2 3 4 5 6 7 8 9]\n"
     ]
    }
   ],
   "source": [
    "# It's a multi-class classification problem\n",
    "class_index = {'airplane': 0, 'automobile': 1, 'bird': 2, 'cat': 3, 'deer': 4,\n",
    "               'dog': 5, 'frog': 6, 'horse': 7, 'ship': 8, 'truck': 9}\n",
    "print(np.unique(y_train))"
   ]
  },
  {
   "cell_type": "markdown",
   "metadata": {
    "id": "KeOCyaMDk_ke"
   },
   "source": [
    "![image](https://img-blog.csdnimg.cn/20190623084800880.png?x-oss-process=image/watermark,type_ZmFuZ3poZW5naGVpdGk,shadow_10,text_aHR0cHM6Ly9ibG9nLmNzZG4ubmV0L3lqcDE5ODcxMDEz,size_16,color_FFFFFF,t_70)"
   ]
  },
  {
   "cell_type": "markdown",
   "metadata": {
    "id": "y5gBs26ok_ke"
   },
   "source": [
    "## Data preprocess"
   ]
  },
  {
   "cell_type": "code",
   "execution_count": null,
   "metadata": {
    "colab": {
     "base_uri": "https://localhost:8080/"
    },
    "executionInfo": {
     "elapsed": 956,
     "status": "ok",
     "timestamp": 1624166509695,
     "user": {
      "displayName": "周芝妤",
      "photoUrl": "",
      "userId": "05892310229498868316"
     },
     "user_tz": -480
    },
    "id": "uVGZsaI1k_ke",
    "outputId": "efad1c34-9974-4899-befb-f7069d59593b"
   },
   "outputs": [
    {
     "name": "stdout",
     "output_type": "stream",
     "text": [
      "[9]\n",
      "[0. 0. 0. 0. 0. 0. 0. 0. 0. 1.]\n"
     ]
    }
   ],
   "source": [
    "x_train = x_train.astype('float32')\n",
    "x_test = x_test.astype('float32')\n",
    "#x_train /= 255\n",
    "#x_test /= 255\n",
    "\n",
    "mean = np.mean(x_train, axis=(0, 1, 2, 3))\n",
    "std = np.std(x_train, axis=(0, 1, 2, 3))\n",
    "x_train = (x_train-mean)/(std+1e-7)\n",
    "x_test = (x_test-mean)/(std+1e-7)\n",
    "\n",
    "# Convert class vectors to one-hot encoding (keras model requires one-hot label as inputs)\n",
    "num_classes = 10\n",
    "print(y_train[0])\n",
    "y_train = to_categorical(y_train, num_classes)\n",
    "y_test = to_categorical(y_test, num_classes)\n",
    "print(y_train[0])"
   ]
  },
  {
   "cell_type": "markdown",
   "metadata": {
    "id": "VWWklFwqRQDJ"
   },
   "source": [
    "# ImageDataGenerator"
   ]
  },
  {
   "cell_type": "code",
   "execution_count": null,
   "metadata": {
    "id": "jzJbH9QsRPKd"
   },
   "outputs": [],
   "source": [
    "from keras.preprocessing.image import ImageDataGenerator, array_to_img, img_to_array, load_img\n",
    "from keras.callbacks import ReduceLROnPlateau\n",
    "\n",
    "train_datagen = ImageDataGenerator(rotation_range=40,\n",
    "                                   width_shift_range=0.2,\n",
    "                                   height_shift_range=0.2,\n",
    "                                   shear_range=0.2,\n",
    "                                   zoom_range=0.2,\n",
    "                                   horizontal_flip=True,\n",
    "                                   fill_mode=\"nearest\")\n",
    "\n",
    "\n",
    "train_datagen.fit(x_train)"
   ]
  },
  {
   "cell_type": "markdown",
   "metadata": {},
   "source": [
    "# Set the learing rate reducing schedule"
   ]
  },
  {
   "cell_type": "code",
   "execution_count": null,
   "metadata": {
    "id": "Gjx_iLG92AJ8"
   },
   "outputs": [],
   "source": [
    "def lr_schedule(epoch):\n",
    "    lrate = 0.001\n",
    "    if epoch > 75:\n",
    "        lrate = 0.0005\n",
    "    if epoch > 100:\n",
    "        lrate = 0.0003\n",
    "    return lrate"
   ]
  },
  {
   "cell_type": "markdown",
   "metadata": {},
   "source": [
    "# Using  Fractional Max-Pooling"
   ]
  },
  {
   "cell_type": "code",
   "execution_count": null,
   "metadata": {
    "id": "is7V2lf1nfY9"
   },
   "outputs": [],
   "source": [
    "def frac_max_pool(x):\n",
    "    return tf.nn.fractional_max_pool(x, [1.0, 1.41, 1.41, 1.0], pseudo_random=True, overlapping=True)[0]"
   ]
  },
  {
   "cell_type": "markdown",
   "metadata": {
    "id": "yFwZIl7Jk_kf"
   },
   "source": [
    "## Build model & training (Keras)"
   ]
  },
  {
   "cell_type": "code",
   "execution_count": null,
   "metadata": {
    "colab": {
     "base_uri": "https://localhost:8080/"
    },
    "executionInfo": {
     "elapsed": 12934307,
     "status": "ok",
     "timestamp": 1624179553000,
     "user": {
      "displayName": "周芝妤",
      "photoUrl": "",
      "userId": "05892310229498868316"
     },
     "user_tz": -480
    },
    "id": "GG0fizNMquY1",
    "outputId": "bee24235-7d76-4070-ef2c-8b28a0b488f6"
   },
   "outputs": [
    {
     "name": "stdout",
     "output_type": "stream",
     "text": [
      "Epoch 1/125\n",
      "781/781 [==============================] - 116s 142ms/step - loss: 2.3813 - accuracy: 0.2880 - val_loss: 1.7905 - val_accuracy: 0.4476\n",
      "Epoch 2/125\n",
      "781/781 [==============================] - 109s 140ms/step - loss: 1.6002 - accuracy: 0.4589 - val_loss: 1.5158 - val_accuracy: 0.5499\n",
      "Epoch 3/125\n",
      "781/781 [==============================] - 110s 140ms/step - loss: 1.3824 - accuracy: 0.5349 - val_loss: 1.3039 - val_accuracy: 0.5815\n",
      "Epoch 4/125\n",
      "781/781 [==============================] - 109s 139ms/step - loss: 1.2853 - accuracy: 0.5813 - val_loss: 1.0721 - val_accuracy: 0.6588\n",
      "Epoch 5/125\n",
      "781/781 [==============================] - 108s 138ms/step - loss: 1.1956 - accuracy: 0.6151 - val_loss: 1.2043 - val_accuracy: 0.6409\n",
      "Epoch 6/125\n",
      "781/781 [==============================] - 107s 137ms/step - loss: 1.1407 - accuracy: 0.6411 - val_loss: 1.0011 - val_accuracy: 0.7043\n",
      "Epoch 7/125\n",
      "781/781 [==============================] - 105s 135ms/step - loss: 1.1055 - accuracy: 0.6639 - val_loss: 1.3116 - val_accuracy: 0.6307\n",
      "Epoch 8/125\n",
      "781/781 [==============================] - 104s 133ms/step - loss: 1.0778 - accuracy: 0.6785 - val_loss: 0.9624 - val_accuracy: 0.7211\n",
      "Epoch 9/125\n",
      "781/781 [==============================] - 104s 133ms/step - loss: 1.0627 - accuracy: 0.6888 - val_loss: 0.8973 - val_accuracy: 0.7550\n",
      "Epoch 10/125\n",
      "781/781 [==============================] - 103s 132ms/step - loss: 1.0436 - accuracy: 0.7004 - val_loss: 1.0438 - val_accuracy: 0.7152\n",
      "Epoch 11/125\n",
      "781/781 [==============================] - 103s 132ms/step - loss: 1.0357 - accuracy: 0.7034 - val_loss: 1.1479 - val_accuracy: 0.6971\n",
      "Epoch 12/125\n",
      "781/781 [==============================] - 103s 132ms/step - loss: 1.0254 - accuracy: 0.7173 - val_loss: 0.9329 - val_accuracy: 0.7552\n",
      "Epoch 13/125\n",
      "781/781 [==============================] - 103s 132ms/step - loss: 1.0006 - accuracy: 0.7280 - val_loss: 0.9352 - val_accuracy: 0.7550\n",
      "Epoch 14/125\n",
      "781/781 [==============================] - 102s 131ms/step - loss: 0.9855 - accuracy: 0.7338 - val_loss: 0.9439 - val_accuracy: 0.7589\n",
      "Epoch 15/125\n",
      "781/781 [==============================] - 102s 130ms/step - loss: 0.9897 - accuracy: 0.7313 - val_loss: 0.9109 - val_accuracy: 0.7733\n",
      "Epoch 16/125\n",
      "781/781 [==============================] - 102s 131ms/step - loss: 0.9830 - accuracy: 0.7398 - val_loss: 0.9283 - val_accuracy: 0.7604\n",
      "Epoch 17/125\n",
      "781/781 [==============================] - 102s 131ms/step - loss: 0.9646 - accuracy: 0.7502 - val_loss: 0.8685 - val_accuracy: 0.7869\n",
      "Epoch 18/125\n",
      "781/781 [==============================] - 102s 130ms/step - loss: 0.9622 - accuracy: 0.7494 - val_loss: 0.7715 - val_accuracy: 0.8153\n",
      "Epoch 19/125\n",
      "781/781 [==============================] - 103s 132ms/step - loss: 0.9639 - accuracy: 0.7502 - val_loss: 0.8101 - val_accuracy: 0.8017\n",
      "Epoch 20/125\n",
      "781/781 [==============================] - 103s 132ms/step - loss: 0.9503 - accuracy: 0.7564 - val_loss: 0.7919 - val_accuracy: 0.8082\n",
      "Epoch 21/125\n",
      "781/781 [==============================] - 101s 130ms/step - loss: 0.9320 - accuracy: 0.7624 - val_loss: 0.8185 - val_accuracy: 0.8020\n",
      "Epoch 22/125\n",
      "781/781 [==============================] - 101s 129ms/step - loss: 0.9352 - accuracy: 0.7602 - val_loss: 0.7568 - val_accuracy: 0.8278\n",
      "Epoch 23/125\n",
      "781/781 [==============================] - 102s 131ms/step - loss: 0.9364 - accuracy: 0.7621 - val_loss: 0.7732 - val_accuracy: 0.8177\n",
      "Epoch 24/125\n",
      "781/781 [==============================] - 102s 131ms/step - loss: 0.9231 - accuracy: 0.7664 - val_loss: 0.8402 - val_accuracy: 0.7952\n",
      "Epoch 25/125\n",
      "781/781 [==============================] - 101s 130ms/step - loss: 0.9040 - accuracy: 0.7734 - val_loss: 0.8350 - val_accuracy: 0.7999\n",
      "Epoch 26/125\n",
      "781/781 [==============================] - 102s 131ms/step - loss: 0.9224 - accuracy: 0.7682 - val_loss: 0.7689 - val_accuracy: 0.8230\n",
      "Epoch 27/125\n",
      "781/781 [==============================] - 103s 132ms/step - loss: 0.8927 - accuracy: 0.7766 - val_loss: 0.6944 - val_accuracy: 0.8456\n",
      "Epoch 28/125\n",
      "781/781 [==============================] - 104s 133ms/step - loss: 0.8868 - accuracy: 0.7788 - val_loss: 0.7212 - val_accuracy: 0.8392\n",
      "Epoch 29/125\n",
      "781/781 [==============================] - 103s 132ms/step - loss: 0.8890 - accuracy: 0.7763 - val_loss: 0.8653 - val_accuracy: 0.7952\n",
      "Epoch 30/125\n",
      "781/781 [==============================] - 103s 132ms/step - loss: 0.8830 - accuracy: 0.7791 - val_loss: 0.7601 - val_accuracy: 0.8234\n",
      "Epoch 31/125\n",
      "781/781 [==============================] - 103s 131ms/step - loss: 0.8721 - accuracy: 0.7849 - val_loss: 0.7657 - val_accuracy: 0.8226\n",
      "Epoch 32/125\n",
      "781/781 [==============================] - 102s 130ms/step - loss: 0.9380 - accuracy: 0.7644 - val_loss: 0.7748 - val_accuracy: 0.8200\n",
      "Epoch 33/125\n",
      "781/781 [==============================] - 101s 130ms/step - loss: 0.8720 - accuracy: 0.7869 - val_loss: 0.7279 - val_accuracy: 0.8344\n",
      "Epoch 34/125\n",
      "781/781 [==============================] - 101s 130ms/step - loss: 0.8744 - accuracy: 0.7837 - val_loss: 0.7648 - val_accuracy: 0.8186\n",
      "Epoch 35/125\n",
      "781/781 [==============================] - 102s 130ms/step - loss: 0.8686 - accuracy: 0.7858 - val_loss: 0.7298 - val_accuracy: 0.8353\n",
      "Epoch 36/125\n",
      "781/781 [==============================] - 102s 130ms/step - loss: 0.8568 - accuracy: 0.7909 - val_loss: 0.7544 - val_accuracy: 0.8255\n",
      "Epoch 37/125\n",
      "781/781 [==============================] - 101s 130ms/step - loss: 0.8648 - accuracy: 0.7902 - val_loss: 0.7724 - val_accuracy: 0.8233\n",
      "Epoch 38/125\n",
      "781/781 [==============================] - 101s 130ms/step - loss: 0.8506 - accuracy: 0.7905 - val_loss: 0.7095 - val_accuracy: 0.8399\n",
      "Epoch 39/125\n",
      "781/781 [==============================] - 101s 130ms/step - loss: 0.8544 - accuracy: 0.7936 - val_loss: 0.7450 - val_accuracy: 0.8309\n",
      "Epoch 40/125\n",
      "781/781 [==============================] - 101s 129ms/step - loss: 0.8461 - accuracy: 0.7943 - val_loss: 0.6997 - val_accuracy: 0.8480\n",
      "Epoch 41/125\n",
      "781/781 [==============================] - 101s 130ms/step - loss: 0.8301 - accuracy: 0.8004 - val_loss: 0.6983 - val_accuracy: 0.8442\n",
      "Epoch 42/125\n",
      "781/781 [==============================] - 102s 131ms/step - loss: 0.8397 - accuracy: 0.7982 - val_loss: 0.7662 - val_accuracy: 0.8256\n",
      "Epoch 43/125\n",
      "781/781 [==============================] - 101s 129ms/step - loss: 0.8439 - accuracy: 0.7943 - val_loss: 0.7598 - val_accuracy: 0.8231\n",
      "Epoch 44/125\n",
      "781/781 [==============================] - 101s 130ms/step - loss: 0.8391 - accuracy: 0.7953 - val_loss: 0.6893 - val_accuracy: 0.8509\n",
      "Epoch 45/125\n",
      "781/781 [==============================] - 101s 130ms/step - loss: 0.8352 - accuracy: 0.7987 - val_loss: 0.6842 - val_accuracy: 0.8497\n",
      "Epoch 46/125\n",
      "781/781 [==============================] - 101s 130ms/step - loss: 0.8303 - accuracy: 0.7999 - val_loss: 0.7449 - val_accuracy: 0.8290\n",
      "Epoch 47/125\n",
      "781/781 [==============================] - 101s 129ms/step - loss: 0.8216 - accuracy: 0.8008 - val_loss: 0.7119 - val_accuracy: 0.8394\n",
      "Epoch 48/125\n",
      "781/781 [==============================] - 101s 129ms/step - loss: 0.8212 - accuracy: 0.8023 - val_loss: 0.7304 - val_accuracy: 0.8352\n",
      "Epoch 49/125\n",
      "781/781 [==============================] - 101s 129ms/step - loss: 0.8164 - accuracy: 0.8010 - val_loss: 0.6936 - val_accuracy: 0.8449\n",
      "Epoch 50/125\n",
      "781/781 [==============================] - 101s 129ms/step - loss: 0.8225 - accuracy: 0.8033 - val_loss: 0.7896 - val_accuracy: 0.8180\n",
      "Epoch 51/125\n",
      "781/781 [==============================] - 101s 129ms/step - loss: 0.8125 - accuracy: 0.8019 - val_loss: 0.7438 - val_accuracy: 0.8329\n",
      "Epoch 52/125\n",
      "781/781 [==============================] - 101s 129ms/step - loss: 0.8055 - accuracy: 0.8075 - val_loss: 0.7297 - val_accuracy: 0.8382\n",
      "Epoch 53/125\n",
      "781/781 [==============================] - 101s 129ms/step - loss: 0.8117 - accuracy: 0.8026 - val_loss: 0.7150 - val_accuracy: 0.8432\n",
      "Epoch 54/125\n",
      "781/781 [==============================] - 101s 129ms/step - loss: 0.8131 - accuracy: 0.8032 - val_loss: 0.7346 - val_accuracy: 0.8365\n",
      "Epoch 55/125\n",
      "781/781 [==============================] - 101s 130ms/step - loss: 0.8171 - accuracy: 0.8030 - val_loss: 0.6846 - val_accuracy: 0.8524\n",
      "Epoch 56/125\n",
      "781/781 [==============================] - 101s 129ms/step - loss: 0.8124 - accuracy: 0.8052 - val_loss: 0.6277 - val_accuracy: 0.8707\n",
      "Epoch 57/125\n",
      "781/781 [==============================] - 101s 129ms/step - loss: 0.7987 - accuracy: 0.8073 - val_loss: 0.6921 - val_accuracy: 0.8455\n",
      "Epoch 58/125\n",
      "781/781 [==============================] - 101s 129ms/step - loss: 0.7958 - accuracy: 0.8120 - val_loss: 0.7137 - val_accuracy: 0.8446\n",
      "Epoch 59/125\n",
      "781/781 [==============================] - 102s 131ms/step - loss: 0.7880 - accuracy: 0.8134 - val_loss: 0.7275 - val_accuracy: 0.8407\n",
      "Epoch 60/125\n",
      "781/781 [==============================] - 101s 129ms/step - loss: 0.7947 - accuracy: 0.8107 - val_loss: 0.6536 - val_accuracy: 0.8578\n",
      "Epoch 61/125\n",
      "781/781 [==============================] - 101s 129ms/step - loss: 0.8075 - accuracy: 0.8067 - val_loss: 0.7810 - val_accuracy: 0.8230\n",
      "Epoch 62/125\n",
      "781/781 [==============================] - 101s 130ms/step - loss: 0.8147 - accuracy: 0.8075 - val_loss: 0.6734 - val_accuracy: 0.8551\n",
      "Epoch 63/125\n",
      "781/781 [==============================] - 101s 129ms/step - loss: 0.7938 - accuracy: 0.8096 - val_loss: 0.6492 - val_accuracy: 0.8573\n",
      "Epoch 64/125\n",
      "781/781 [==============================] - 101s 129ms/step - loss: 0.7856 - accuracy: 0.8132 - val_loss: 0.6743 - val_accuracy: 0.8506\n",
      "Epoch 65/125\n",
      "781/781 [==============================] - 101s 129ms/step - loss: 0.7926 - accuracy: 0.8133 - val_loss: 0.6688 - val_accuracy: 0.8550\n",
      "Epoch 66/125\n",
      "781/781 [==============================] - 102s 130ms/step - loss: 0.7769 - accuracy: 0.8176 - val_loss: 0.7692 - val_accuracy: 0.8235\n",
      "Epoch 67/125\n",
      "781/781 [==============================] - 101s 130ms/step - loss: 0.7923 - accuracy: 0.8095 - val_loss: 0.6533 - val_accuracy: 0.8623\n",
      "Epoch 68/125\n",
      "781/781 [==============================] - 102s 130ms/step - loss: 0.7790 - accuracy: 0.8157 - val_loss: 0.6939 - val_accuracy: 0.8527\n",
      "Epoch 69/125\n",
      "781/781 [==============================] - 102s 130ms/step - loss: 0.7889 - accuracy: 0.8128 - val_loss: 0.6785 - val_accuracy: 0.8517\n",
      "Epoch 70/125\n",
      "781/781 [==============================] - 101s 130ms/step - loss: 0.7758 - accuracy: 0.8165 - val_loss: 0.8413 - val_accuracy: 0.8039\n",
      "Epoch 71/125\n",
      "781/781 [==============================] - 101s 130ms/step - loss: 0.7977 - accuracy: 0.8095 - val_loss: 0.6935 - val_accuracy: 0.8465\n",
      "Epoch 72/125\n",
      "781/781 [==============================] - 102s 130ms/step - loss: 0.7940 - accuracy: 0.8089 - val_loss: 0.6723 - val_accuracy: 0.8587\n",
      "Epoch 73/125\n",
      "781/781 [==============================] - 101s 130ms/step - loss: 0.7811 - accuracy: 0.8149 - val_loss: 0.7169 - val_accuracy: 0.8368\n",
      "Epoch 74/125\n",
      "781/781 [==============================] - 102s 131ms/step - loss: 0.7835 - accuracy: 0.8133 - val_loss: 0.6808 - val_accuracy: 0.8516\n",
      "Epoch 75/125\n",
      "781/781 [==============================] - 102s 131ms/step - loss: 0.7835 - accuracy: 0.8144 - val_loss: 0.5972 - val_accuracy: 0.8778\n",
      "Epoch 76/125\n",
      "781/781 [==============================] - 102s 131ms/step - loss: 0.7715 - accuracy: 0.8138 - val_loss: 0.7314 - val_accuracy: 0.8376\n",
      "Epoch 77/125\n",
      "781/781 [==============================] - 102s 130ms/step - loss: 0.7215 - accuracy: 0.8345 - val_loss: 0.5780 - val_accuracy: 0.8801\n",
      "Epoch 78/125\n",
      "781/781 [==============================] - 102s 131ms/step - loss: 0.6784 - accuracy: 0.8437 - val_loss: 0.6002 - val_accuracy: 0.8709\n",
      "Epoch 79/125\n",
      "781/781 [==============================] - 102s 131ms/step - loss: 0.6763 - accuracy: 0.8411 - val_loss: 0.5646 - val_accuracy: 0.8855\n",
      "Epoch 80/125\n",
      "781/781 [==============================] - 102s 130ms/step - loss: 0.6602 - accuracy: 0.8452 - val_loss: 0.5694 - val_accuracy: 0.8811\n",
      "Epoch 81/125\n",
      "781/781 [==============================] - 103s 132ms/step - loss: 0.6441 - accuracy: 0.8505 - val_loss: 0.5507 - val_accuracy: 0.8860\n",
      "Epoch 82/125\n",
      "781/781 [==============================] - 102s 131ms/step - loss: 0.6359 - accuracy: 0.8504 - val_loss: 0.5228 - val_accuracy: 0.8894\n",
      "Epoch 83/125\n",
      "781/781 [==============================] - 102s 130ms/step - loss: 0.6440 - accuracy: 0.8463 - val_loss: 0.5617 - val_accuracy: 0.8772\n",
      "Epoch 84/125\n",
      "781/781 [==============================] - 102s 131ms/step - loss: 0.6318 - accuracy: 0.8490 - val_loss: 0.5186 - val_accuracy: 0.8909\n",
      "Epoch 85/125\n",
      "781/781 [==============================] - 102s 131ms/step - loss: 0.6253 - accuracy: 0.8495 - val_loss: 0.5463 - val_accuracy: 0.8824\n",
      "Epoch 86/125\n",
      "781/781 [==============================] - 102s 131ms/step - loss: 0.6238 - accuracy: 0.8498 - val_loss: 0.5710 - val_accuracy: 0.8709\n",
      "Epoch 87/125\n",
      "781/781 [==============================] - 103s 131ms/step - loss: 0.6272 - accuracy: 0.8488 - val_loss: 0.5114 - val_accuracy: 0.8903\n",
      "Epoch 88/125\n",
      "781/781 [==============================] - 102s 131ms/step - loss: 0.6220 - accuracy: 0.8478 - val_loss: 0.5125 - val_accuracy: 0.8901\n",
      "Epoch 89/125\n",
      "781/781 [==============================] - 104s 133ms/step - loss: 0.5991 - accuracy: 0.8573 - val_loss: 0.5275 - val_accuracy: 0.8841\n",
      "Epoch 90/125\n",
      "781/781 [==============================] - 103s 131ms/step - loss: 0.6074 - accuracy: 0.8533 - val_loss: 0.5569 - val_accuracy: 0.8769\n",
      "Epoch 91/125\n",
      "781/781 [==============================] - 102s 131ms/step - loss: 0.6112 - accuracy: 0.8531 - val_loss: 0.5141 - val_accuracy: 0.8869\n",
      "Epoch 92/125\n",
      "781/781 [==============================] - 102s 131ms/step - loss: 0.5966 - accuracy: 0.8562 - val_loss: 0.4882 - val_accuracy: 0.8974\n",
      "Epoch 93/125\n",
      "781/781 [==============================] - 102s 131ms/step - loss: 0.6011 - accuracy: 0.8524 - val_loss: 0.5129 - val_accuracy: 0.8862\n",
      "Epoch 94/125\n",
      "781/781 [==============================] - 102s 131ms/step - loss: 0.6111 - accuracy: 0.8506 - val_loss: 0.6300 - val_accuracy: 0.8505\n",
      "Epoch 95/125\n",
      "781/781 [==============================] - 103s 132ms/step - loss: 0.6242 - accuracy: 0.8462 - val_loss: 0.5594 - val_accuracy: 0.8733\n",
      "Epoch 96/125\n",
      "781/781 [==============================] - 103s 131ms/step - loss: 0.6047 - accuracy: 0.8520 - val_loss: 0.5013 - val_accuracy: 0.8896\n",
      "Epoch 97/125\n",
      "781/781 [==============================] - 103s 131ms/step - loss: 0.5954 - accuracy: 0.8571 - val_loss: 0.5145 - val_accuracy: 0.8848\n",
      "Epoch 98/125\n",
      "781/781 [==============================] - 102s 131ms/step - loss: 0.5887 - accuracy: 0.8592 - val_loss: 0.5187 - val_accuracy: 0.8846\n",
      "Epoch 99/125\n",
      "781/781 [==============================] - 102s 131ms/step - loss: 0.5934 - accuracy: 0.8529 - val_loss: 0.5100 - val_accuracy: 0.8869\n",
      "Epoch 100/125\n",
      "781/781 [==============================] - 103s 131ms/step - loss: 0.5859 - accuracy: 0.8588 - val_loss: 0.5058 - val_accuracy: 0.8883\n",
      "Epoch 101/125\n",
      "781/781 [==============================] - 102s 131ms/step - loss: 0.5837 - accuracy: 0.8607 - val_loss: 0.5402 - val_accuracy: 0.8799\n",
      "Epoch 102/125\n",
      "781/781 [==============================] - 102s 131ms/step - loss: 0.5646 - accuracy: 0.8643 - val_loss: 0.4662 - val_accuracy: 0.9012\n",
      "Epoch 103/125\n",
      "781/781 [==============================] - 102s 131ms/step - loss: 0.5454 - accuracy: 0.8701 - val_loss: 0.4733 - val_accuracy: 0.8970\n",
      "Epoch 104/125\n",
      "781/781 [==============================] - 102s 131ms/step - loss: 0.5359 - accuracy: 0.8707 - val_loss: 0.4726 - val_accuracy: 0.9007\n",
      "Epoch 105/125\n",
      "781/781 [==============================] - 102s 131ms/step - loss: 0.5280 - accuracy: 0.8738 - val_loss: 0.4573 - val_accuracy: 0.9031\n",
      "Epoch 106/125\n",
      "781/781 [==============================] - 103s 131ms/step - loss: 0.5351 - accuracy: 0.8690 - val_loss: 0.4511 - val_accuracy: 0.9035\n",
      "Epoch 107/125\n",
      "781/781 [==============================] - 103s 131ms/step - loss: 0.5240 - accuracy: 0.8751 - val_loss: 0.4635 - val_accuracy: 0.8995\n",
      "Epoch 108/125\n",
      "781/781 [==============================] - 102s 131ms/step - loss: 0.5241 - accuracy: 0.8726 - val_loss: 0.4558 - val_accuracy: 0.9045\n",
      "Epoch 109/125\n",
      "781/781 [==============================] - 102s 131ms/step - loss: 0.5205 - accuracy: 0.8763 - val_loss: 0.4605 - val_accuracy: 0.9000\n",
      "Epoch 110/125\n",
      "781/781 [==============================] - 103s 132ms/step - loss: 0.5139 - accuracy: 0.8749 - val_loss: 0.4652 - val_accuracy: 0.8959\n",
      "Epoch 111/125\n",
      "781/781 [==============================] - 102s 131ms/step - loss: 0.5043 - accuracy: 0.8787 - val_loss: 0.4591 - val_accuracy: 0.8999\n",
      "Epoch 112/125\n",
      "781/781 [==============================] - 102s 131ms/step - loss: 0.5119 - accuracy: 0.8766 - val_loss: 0.4495 - val_accuracy: 0.9003\n",
      "Epoch 113/125\n",
      "781/781 [==============================] - 102s 131ms/step - loss: 0.5043 - accuracy: 0.8769 - val_loss: 0.4453 - val_accuracy: 0.9018\n",
      "Epoch 114/125\n",
      "781/781 [==============================] - 102s 131ms/step - loss: 0.5056 - accuracy: 0.8779 - val_loss: 0.4717 - val_accuracy: 0.8944\n",
      "Epoch 115/125\n",
      "781/781 [==============================] - 103s 132ms/step - loss: 0.5008 - accuracy: 0.8786 - val_loss: 0.4362 - val_accuracy: 0.9054\n",
      "Epoch 116/125\n",
      "781/781 [==============================] - 103s 131ms/step - loss: 0.5050 - accuracy: 0.8753 - val_loss: 0.4457 - val_accuracy: 0.9003\n",
      "Epoch 117/125\n",
      "781/781 [==============================] - 103s 132ms/step - loss: 0.5026 - accuracy: 0.8774 - val_loss: 0.4465 - val_accuracy: 0.8990\n",
      "Epoch 118/125\n",
      "781/781 [==============================] - 103s 132ms/step - loss: 0.4967 - accuracy: 0.8777 - val_loss: 0.4448 - val_accuracy: 0.9029\n",
      "Epoch 119/125\n",
      "781/781 [==============================] - 103s 132ms/step - loss: 0.4862 - accuracy: 0.8802 - val_loss: 0.4561 - val_accuracy: 0.8980\n",
      "Epoch 120/125\n",
      "781/781 [==============================] - 103s 132ms/step - loss: 0.5063 - accuracy: 0.8750 - val_loss: 0.4535 - val_accuracy: 0.8987\n",
      "Epoch 121/125\n",
      "781/781 [==============================] - 103s 132ms/step - loss: 0.4928 - accuracy: 0.8785 - val_loss: 0.4321 - val_accuracy: 0.9050\n",
      "Epoch 122/125\n",
      "781/781 [==============================] - 103s 132ms/step - loss: 0.4952 - accuracy: 0.8787 - val_loss: 0.4321 - val_accuracy: 0.9033\n",
      "Epoch 123/125\n",
      "781/781 [==============================] - 102s 131ms/step - loss: 0.4872 - accuracy: 0.8806 - val_loss: 0.4217 - val_accuracy: 0.9066\n",
      "Epoch 124/125\n",
      "781/781 [==============================] - 103s 131ms/step - loss: 0.4876 - accuracy: 0.8812 - val_loss: 0.4385 - val_accuracy: 0.9034\n",
      "Epoch 125/125\n",
      "781/781 [==============================] - 103s 131ms/step - loss: 0.4945 - accuracy: 0.8755 - val_loss: 0.4295 - val_accuracy: 0.9028\n",
      "Test loss: 0.43361571431159973\n",
      "Test accuracy: 0.9003999829292297\n"
     ]
    }
   ],
   "source": [
    "# Builde model\n",
    "import tensorflow as tf\n",
    "from keras.preprocessing.image import ImageDataGenerator, array_to_img, img_to_array, load_img\n",
    "from keras.layers import Dropout\n",
    "from keras.layers import BatchNormalization\n",
    "from keras.layers import Input, Lambda\n",
    "from keras import regularizers, optimizers\n",
    "from keras.callbacks import LearningRateScheduler\n",
    "\n",
    "baseMapNum = 32\n",
    "weight_decay = 1e-4\n",
    "\n",
    "model = Sequential()  # Sequential groups a linear stack of layers\n",
    "model.add(Conv2D(baseMapNum, (3, 3), padding='same', kernel_regularizer=regularizers.l2(\n",
    "    weight_decay), input_shape=x_train.shape[1:]))\n",
    "model.add(Activation('relu'))  # Add Relu activation for non-linearity\n",
    "model.add(BatchNormalization())\n",
    "model.add(Conv2D(baseMapNum, (3, 3), padding='same',\n",
    "          kernel_regularizer=regularizers.l2(weight_decay)))\n",
    "model.add(Activation('relu'))  # Add Relu activation for non-linearity\n",
    "model.add(BatchNormalization())\n",
    "model.add(Lambda(frac_max_pool))\n",
    "model.add(Dropout(0.1))\n",
    "\n",
    "\n",
    "model.add(Conv2D(2*baseMapNum, (3, 3), padding='same',\n",
    "          kernel_regularizer=regularizers.l2(weight_decay)))\n",
    "model.add(Activation('relu'))  # Add Relu activation for non-linearity\n",
    "model.add(BatchNormalization())\n",
    "model.add(Conv2D(2*baseMapNum, (3, 3), padding='same',\n",
    "          kernel_regularizer=regularizers.l2(weight_decay)))\n",
    "model.add(Activation('relu'))  # Add Relu activation for non-linearity\n",
    "model.add(BatchNormalization())\n",
    "model.add(Lambda(frac_max_pool))\n",
    "model.add(Dropout(0.2))\n",
    "\n",
    "\n",
    "model.add(Conv2D(4*baseMapNum, (3, 3), padding='same',\n",
    "          kernel_regularizer=regularizers.l2(weight_decay)))\n",
    "model.add(Activation('relu'))  # Add Relu activation for non-linearity\n",
    "model.add(BatchNormalization())\n",
    "model.add(Conv2D(4*baseMapNum, (3, 3), padding='same',\n",
    "          kernel_regularizer=regularizers.l2(weight_decay)))\n",
    "model.add(Activation('relu'))  # Add Relu activation for non-linearity\n",
    "model.add(BatchNormalization())\n",
    "model.add(Lambda(frac_max_pool))\n",
    "model.add(Dropout(0.3))\n",
    "\n",
    "\n",
    "model.add(Conv2D(8*baseMapNum, (3, 3), padding='same',\n",
    "          kernel_regularizer=regularizers.l2(weight_decay)))\n",
    "model.add(Activation('relu'))  # Add Relu activation for non-linearity\n",
    "model.add(BatchNormalization())\n",
    "model.add(Conv2D(8*baseMapNum, (3, 3), padding='same',\n",
    "          kernel_regularizer=regularizers.l2(weight_decay)))\n",
    "model.add(Activation('relu'))  # Add Relu activation for non-linearity\n",
    "model.add(BatchNormalization())\n",
    "model.add(Lambda(frac_max_pool))\n",
    "model.add(Dropout(0.4))\n",
    "\n",
    "\n",
    "model.add(Flatten())  # Flatten the featuremaps\n",
    "model.add(Dense(units=512))  # Add dense layer with 512 neurons\n",
    "model.add(Activation('relu'))  # Add Relu activation for non-linearity\n",
    "model.add(BatchNormalization())\n",
    "model.add(Dense(units=512))  # Add dense layer with 512 neurons\n",
    "model.add(Activation('relu'))  # Add Relu activation for non-linearity\n",
    "model.add(BatchNormalization())\n",
    "model.add(Dropout(0.5))\n",
    "model.add(Dense(units=num_classes))  # Add final output layer for 10 classes\n",
    "# Add softmax activation to transfer logits into probabilities\n",
    "model.add(Activation('softmax'))\n",
    "\n",
    "# initiate Nadam optimizer\n",
    "opt = keras.optimizers.Nadam(\n",
    "    learning_rate=0.001, beta_1=0.9, beta_2=0.999, epsilon=None, schedule_decay=1e-6)\n",
    "# I tried different  optimizers\n",
    "#opt = keras.optimizers.Adam(learning_rate=0.0008, beta_1=0.9, beta_2=0.999, epsilon=None, decay=0.004, amsgrad=False)\n",
    "#opt = keras.optimizers.SGD(learning_rate=0.001, momentum=0.9)\n",
    "#opt = keras.optimizers.RMSprop(learning_rate=0.0001, decay=1e-6)\n",
    "#opt = keras.optimizers.RMSprop(learning_rate=0.001,decay=1e-6)\n",
    "\n",
    "\n",
    "# Compile the model with loss function and optimizer, and evaluate with accuracy\n",
    "model.compile(loss='categorical_crossentropy',\n",
    "              optimizer=opt, metrics=['accuracy'])\n",
    "\n",
    "history = model.fit(train_datagen.flow(x_train, y_train, batch_size=64),\n",
    "                    steps_per_epoch=(len(x_train))/64,\n",
    "                    epochs=125,\n",
    "                    verbose=1,\n",
    "                    validation_data=(x_test, y_test),\n",
    "                    validation_steps=(len(x_test))/64,\n",
    "                    callbacks=[LearningRateScheduler(lr_schedule)],\n",
    "                    shuffle=True)\n",
    "\n",
    "score = model.evaluate(x_test, y_test, verbose=0)\n",
    "print('Test loss:', score[0])\n",
    "print('Test accuracy:', score[1])"
   ]
  },
  {
   "cell_type": "code",
   "execution_count": null,
   "metadata": {
    "colab": {
     "base_uri": "https://localhost:8080/"
    },
    "executionInfo": {
     "elapsed": 3181,
     "status": "ok",
     "timestamp": 1624179749230,
     "user": {
      "displayName": "周芝妤",
      "photoUrl": "",
      "userId": "05892310229498868316"
     },
     "user_tz": -480
    },
    "id": "Bb-8nlX6k_kg",
    "outputId": "1bb92a93-7661-45eb-e5f8-d037cce78d4c"
   },
   "outputs": [
    {
     "name": "stdout",
     "output_type": "stream",
     "text": [
      "(10000, 10)\n"
     ]
    }
   ],
   "source": [
    "y_pred = model.predict(x_test)\n",
    "print(y_pred.shape)  # 10000 samples, each sample with probaility of 10 classes"
   ]
  },
  {
   "cell_type": "code",
   "execution_count": null,
   "metadata": {
    "colab": {
     "base_uri": "https://localhost:8080/"
    },
    "executionInfo": {
     "elapsed": 244,
     "status": "ok",
     "timestamp": 1624179752251,
     "user": {
      "displayName": "周芝妤",
      "photoUrl": "",
      "userId": "05892310229498868316"
     },
     "user_tz": -480
    },
    "id": "6FK4u4Ebk_kg",
    "outputId": "e44c4659-75d6-497b-e806-f86516b93e96"
   },
   "outputs": [
    {
     "data": {
      "text/plain": [
       "array([9.0096257e-13, 9.9697077e-01, 1.2179741e-10, 3.5244339e-09,\n",
       "       6.8526731e-09, 6.0757920e-08, 2.2757572e-10, 1.1206939e-07,\n",
       "       8.8837097e-13, 3.0289458e-03], dtype=float32)"
      ]
     },
     "execution_count": 31,
     "metadata": {
      "tags": []
     },
     "output_type": "execute_result"
    }
   ],
   "source": [
    "y_pred[0]"
   ]
  },
  {
   "cell_type": "code",
   "execution_count": null,
   "metadata": {
    "colab": {
     "base_uri": "https://localhost:8080/"
    },
    "executionInfo": {
     "elapsed": 3,
     "status": "ok",
     "timestamp": 1624179754464,
     "user": {
      "displayName": "周芝妤",
      "photoUrl": "",
      "userId": "05892310229498868316"
     },
     "user_tz": -480
    },
    "id": "0Iwldnkdk_kg",
    "outputId": "990c6221-2d2a-43e8-92a8-0aa5a03f4145"
   },
   "outputs": [
    {
     "data": {
      "text/plain": [
       "1"
      ]
     },
     "execution_count": 32,
     "metadata": {
      "tags": []
     },
     "output_type": "execute_result"
    }
   ],
   "source": [
    "# argmax to find the predict class with highest probability. 9=truck\n",
    "np.argmax(y_pred[0])"
   ]
  },
  {
   "cell_type": "markdown",
   "metadata": {
    "id": "hMlchR_6k_kh"
   },
   "source": [
    "## DO NOT MODIFY CODE BELOW!\n",
    "**Please screen shot your results and post it on your report**"
   ]
  },
  {
   "cell_type": "code",
   "execution_count": null,
   "metadata": {
    "id": "eqRKuJv2qmQy"
   },
   "outputs": [],
   "source": [
    "# Change the label to the number of class\n",
    "y_pred = model.predict(x_test)\n",
    "y_pred = np.argmax(y_pred, axis=1)"
   ]
  },
  {
   "cell_type": "code",
   "execution_count": null,
   "metadata": {
    "id": "vOWQIgbrk_ki"
   },
   "outputs": [],
   "source": [
    "assert y_pred.shape == (10000,)"
   ]
  },
  {
   "cell_type": "code",
   "execution_count": null,
   "metadata": {
    "colab": {
     "base_uri": "https://localhost:8080/"
    },
    "executionInfo": {
     "elapsed": 841,
     "status": "ok",
     "timestamp": 1624180073618,
     "user": {
      "displayName": "周芝妤",
      "photoUrl": "",
      "userId": "05892310229498868316"
     },
     "user_tz": -480
    },
    "id": "tQ4DTKuXk_ki",
    "outputId": "441c030c-43dc-49d4-ed90-a1e30fd13509"
   },
   "outputs": [
    {
     "name": "stdout",
     "output_type": "stream",
     "text": [
      "Accuracy of my model on test set:  0.9012\n"
     ]
    }
   ],
   "source": [
    "y_test = np.load(\"drive/Colab Notebooks/y_test.npy\")\n",
    "print(\"Accuracy of my model on test set: \", accuracy_score(y_test, y_pred))"
   ]
  },
  {
   "cell_type": "code",
   "execution_count": null,
   "metadata": {
    "id": "Lo1FZTogk_kj"
   },
   "outputs": [],
   "source": []
  }
 ],
 "metadata": {
  "accelerator": "GPU",
  "colab": {
   "collapsed_sections": [],
   "name": "「HW5_try_new2 (1) (1).ipynb」的副本",
   "provenance": [
    {
     "file_id": "1yAKghay0QWXvR910lwig6WamcQ6CFwNW",
     "timestamp": 1624180151377
    },
    {
     "file_id": "1K_eq7pUL21QLq5BHReQOoobDGoK6e3eC",
     "timestamp": 1623602736145
    }
   ]
  },
  "kernelspec": {
   "display_name": "Python 3",
   "language": "python",
   "name": "python3"
  },
  "language_info": {
   "codemirror_mode": {
    "name": "ipython",
    "version": 3
   },
   "file_extension": ".py",
   "mimetype": "text/x-python",
   "name": "python",
   "nbconvert_exporter": "python",
   "pygments_lexer": "ipython3",
   "version": "3.7.4"
  }
 },
 "nbformat": 4,
 "nbformat_minor": 1
}
