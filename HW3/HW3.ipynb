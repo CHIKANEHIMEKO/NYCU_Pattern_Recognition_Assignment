{
 "cells": [
  {
   "cell_type": "markdown",
   "metadata": {},
   "source": [
    "## HW3: Decision Tree, Random Forest, and Adaboost\n",
    "In hw3, you need to implement decision tree, random forest and adaboost by using only numpy, then train your implemented model by the provided dataset and test the performance with testing data\n",
    "\n",
    "Please note that only **NUMPY** can be used to implement your model, you will get no points by simply calling sklearn.tree.DecisionTreeClassifier"
   ]
  },
  {
   "cell_type": "code",
   "execution_count": 1,
   "metadata": {},
   "outputs": [],
   "source": [
    "# !pip install sklearn"
   ]
  },
  {
   "cell_type": "markdown",
   "metadata": {},
   "source": [
    "## Load data"
   ]
  },
  {
   "cell_type": "code",
   "execution_count": 2,
   "metadata": {},
   "outputs": [],
   "source": [
    "import numpy as np\n",
    "import pandas as pd\n",
    "from sklearn.datasets import load_breast_cancer\n",
    "from sklearn.metrics import accuracy_score"
   ]
  },
  {
   "cell_type": "code",
   "execution_count": 3,
   "metadata": {},
   "outputs": [
    {
     "name": "stdout",
     "output_type": "stream",
     "text": [
      "['mean radius' 'mean texture' 'mean perimeter' 'mean area'\n",
      " 'mean smoothness' 'mean compactness' 'mean concavity'\n",
      " 'mean concave points' 'mean symmetry' 'mean fractal dimension'\n",
      " 'radius error' 'texture error' 'perimeter error' 'area error'\n",
      " 'smoothness error' 'compactness error' 'concavity error'\n",
      " 'concave points error' 'symmetry error' 'fractal dimension error'\n",
      " 'worst radius' 'worst texture' 'worst perimeter' 'worst area'\n",
      " 'worst smoothness' 'worst compactness' 'worst concavity'\n",
      " 'worst concave points' 'worst symmetry' 'worst fractal dimension']\n"
     ]
    }
   ],
   "source": [
    "data = load_breast_cancer()\n",
    "feature_names = data['feature_names']\n",
    "print(feature_names)"
   ]
  },
  {
   "cell_type": "code",
   "execution_count": 4,
   "metadata": {},
   "outputs": [],
   "source": [
    "x_train = pd.read_csv(\"x_train.csv\")\n",
    "y_train = pd.read_csv(\"y_train.csv\")\n",
    "x_test = pd.read_csv(\"x_test.csv\")\n",
    "y_test = pd.read_csv(\"y_test.csv\")"
   ]
  },
  {
   "cell_type": "code",
   "execution_count": 5,
   "metadata": {},
   "outputs": [
    {
     "data": {
      "text/html": [
       "<div>\n",
       "<style scoped>\n",
       "    .dataframe tbody tr th:only-of-type {\n",
       "        vertical-align: middle;\n",
       "    }\n",
       "\n",
       "    .dataframe tbody tr th {\n",
       "        vertical-align: top;\n",
       "    }\n",
       "\n",
       "    .dataframe thead th {\n",
       "        text-align: right;\n",
       "    }\n",
       "</style>\n",
       "<table border=\"1\" class=\"dataframe\">\n",
       "  <thead>\n",
       "    <tr style=\"text-align: right;\">\n",
       "      <th></th>\n",
       "      <th>mean radius</th>\n",
       "      <th>mean texture</th>\n",
       "      <th>mean perimeter</th>\n",
       "      <th>mean area</th>\n",
       "      <th>mean smoothness</th>\n",
       "      <th>mean compactness</th>\n",
       "      <th>mean concavity</th>\n",
       "      <th>mean concave points</th>\n",
       "      <th>mean symmetry</th>\n",
       "      <th>mean fractal dimension</th>\n",
       "      <th>...</th>\n",
       "      <th>worst radius</th>\n",
       "      <th>worst texture</th>\n",
       "      <th>worst perimeter</th>\n",
       "      <th>worst area</th>\n",
       "      <th>worst smoothness</th>\n",
       "      <th>worst compactness</th>\n",
       "      <th>worst concavity</th>\n",
       "      <th>worst concave points</th>\n",
       "      <th>worst symmetry</th>\n",
       "      <th>worst fractal dimension</th>\n",
       "    </tr>\n",
       "  </thead>\n",
       "  <tbody>\n",
       "    <tr>\n",
       "      <td>0</td>\n",
       "      <td>9.423</td>\n",
       "      <td>27.88</td>\n",
       "      <td>59.26</td>\n",
       "      <td>271.3</td>\n",
       "      <td>0.08123</td>\n",
       "      <td>0.04971</td>\n",
       "      <td>0.00000</td>\n",
       "      <td>0.00000</td>\n",
       "      <td>0.1742</td>\n",
       "      <td>0.06059</td>\n",
       "      <td>...</td>\n",
       "      <td>10.49</td>\n",
       "      <td>34.24</td>\n",
       "      <td>66.50</td>\n",
       "      <td>330.6</td>\n",
       "      <td>0.1073</td>\n",
       "      <td>0.07158</td>\n",
       "      <td>0.0000</td>\n",
       "      <td>0.00000</td>\n",
       "      <td>0.2475</td>\n",
       "      <td>0.06969</td>\n",
       "    </tr>\n",
       "    <tr>\n",
       "      <td>1</td>\n",
       "      <td>12.070</td>\n",
       "      <td>13.44</td>\n",
       "      <td>77.83</td>\n",
       "      <td>445.2</td>\n",
       "      <td>0.11000</td>\n",
       "      <td>0.09009</td>\n",
       "      <td>0.03781</td>\n",
       "      <td>0.02798</td>\n",
       "      <td>0.1657</td>\n",
       "      <td>0.06608</td>\n",
       "      <td>...</td>\n",
       "      <td>13.45</td>\n",
       "      <td>15.77</td>\n",
       "      <td>86.92</td>\n",
       "      <td>549.9</td>\n",
       "      <td>0.1521</td>\n",
       "      <td>0.16320</td>\n",
       "      <td>0.1622</td>\n",
       "      <td>0.07393</td>\n",
       "      <td>0.2781</td>\n",
       "      <td>0.08052</td>\n",
       "    </tr>\n",
       "    <tr>\n",
       "      <td>2</td>\n",
       "      <td>19.160</td>\n",
       "      <td>26.60</td>\n",
       "      <td>126.20</td>\n",
       "      <td>1138.0</td>\n",
       "      <td>0.10200</td>\n",
       "      <td>0.14530</td>\n",
       "      <td>0.19210</td>\n",
       "      <td>0.09664</td>\n",
       "      <td>0.1902</td>\n",
       "      <td>0.06220</td>\n",
       "      <td>...</td>\n",
       "      <td>23.72</td>\n",
       "      <td>35.90</td>\n",
       "      <td>159.80</td>\n",
       "      <td>1724.0</td>\n",
       "      <td>0.1782</td>\n",
       "      <td>0.38410</td>\n",
       "      <td>0.5754</td>\n",
       "      <td>0.18720</td>\n",
       "      <td>0.3258</td>\n",
       "      <td>0.09720</td>\n",
       "    </tr>\n",
       "    <tr>\n",
       "      <td>3</td>\n",
       "      <td>19.000</td>\n",
       "      <td>18.91</td>\n",
       "      <td>123.40</td>\n",
       "      <td>1138.0</td>\n",
       "      <td>0.08217</td>\n",
       "      <td>0.08028</td>\n",
       "      <td>0.09271</td>\n",
       "      <td>0.05627</td>\n",
       "      <td>0.1946</td>\n",
       "      <td>0.05044</td>\n",
       "      <td>...</td>\n",
       "      <td>22.32</td>\n",
       "      <td>25.73</td>\n",
       "      <td>148.20</td>\n",
       "      <td>1538.0</td>\n",
       "      <td>0.1021</td>\n",
       "      <td>0.22640</td>\n",
       "      <td>0.3207</td>\n",
       "      <td>0.12180</td>\n",
       "      <td>0.2841</td>\n",
       "      <td>0.06541</td>\n",
       "    </tr>\n",
       "    <tr>\n",
       "      <td>4</td>\n",
       "      <td>17.540</td>\n",
       "      <td>19.32</td>\n",
       "      <td>115.10</td>\n",
       "      <td>951.6</td>\n",
       "      <td>0.08968</td>\n",
       "      <td>0.11980</td>\n",
       "      <td>0.10360</td>\n",
       "      <td>0.07488</td>\n",
       "      <td>0.1506</td>\n",
       "      <td>0.05491</td>\n",
       "      <td>...</td>\n",
       "      <td>20.42</td>\n",
       "      <td>25.84</td>\n",
       "      <td>139.50</td>\n",
       "      <td>1239.0</td>\n",
       "      <td>0.1381</td>\n",
       "      <td>0.34200</td>\n",
       "      <td>0.3508</td>\n",
       "      <td>0.19390</td>\n",
       "      <td>0.2928</td>\n",
       "      <td>0.07867</td>\n",
       "    </tr>\n",
       "  </tbody>\n",
       "</table>\n",
       "<p>5 rows × 30 columns</p>\n",
       "</div>"
      ],
      "text/plain": [
       "   mean radius  mean texture  mean perimeter  mean area  mean smoothness  \\\n",
       "0        9.423         27.88           59.26      271.3          0.08123   \n",
       "1       12.070         13.44           77.83      445.2          0.11000   \n",
       "2       19.160         26.60          126.20     1138.0          0.10200   \n",
       "3       19.000         18.91          123.40     1138.0          0.08217   \n",
       "4       17.540         19.32          115.10      951.6          0.08968   \n",
       "\n",
       "   mean compactness  mean concavity  mean concave points  mean symmetry  \\\n",
       "0           0.04971         0.00000              0.00000         0.1742   \n",
       "1           0.09009         0.03781              0.02798         0.1657   \n",
       "2           0.14530         0.19210              0.09664         0.1902   \n",
       "3           0.08028         0.09271              0.05627         0.1946   \n",
       "4           0.11980         0.10360              0.07488         0.1506   \n",
       "\n",
       "   mean fractal dimension  ...  worst radius  worst texture  worst perimeter  \\\n",
       "0                 0.06059  ...         10.49          34.24            66.50   \n",
       "1                 0.06608  ...         13.45          15.77            86.92   \n",
       "2                 0.06220  ...         23.72          35.90           159.80   \n",
       "3                 0.05044  ...         22.32          25.73           148.20   \n",
       "4                 0.05491  ...         20.42          25.84           139.50   \n",
       "\n",
       "   worst area  worst smoothness  worst compactness  worst concavity  \\\n",
       "0       330.6            0.1073            0.07158           0.0000   \n",
       "1       549.9            0.1521            0.16320           0.1622   \n",
       "2      1724.0            0.1782            0.38410           0.5754   \n",
       "3      1538.0            0.1021            0.22640           0.3207   \n",
       "4      1239.0            0.1381            0.34200           0.3508   \n",
       "\n",
       "   worst concave points  worst symmetry  worst fractal dimension  \n",
       "0               0.00000          0.2475                  0.06969  \n",
       "1               0.07393          0.2781                  0.08052  \n",
       "2               0.18720          0.3258                  0.09720  \n",
       "3               0.12180          0.2841                  0.06541  \n",
       "4               0.19390          0.2928                  0.07867  \n",
       "\n",
       "[5 rows x 30 columns]"
      ]
     },
     "execution_count": 5,
     "metadata": {},
     "output_type": "execute_result"
    }
   ],
   "source": [
    "x_train.head()"
   ]
  },
  {
   "cell_type": "code",
   "execution_count": 6,
   "metadata": {},
   "outputs": [
    {
     "data": {
      "text/plain": [
       "(426, 30)"
      ]
     },
     "execution_count": 6,
     "metadata": {},
     "output_type": "execute_result"
    }
   ],
   "source": [
    "x_train.shape"
   ]
  },
  {
   "cell_type": "code",
   "execution_count": 7,
   "metadata": {},
   "outputs": [
    {
     "data": {
      "text/plain": [
       "(426, 1)"
      ]
     },
     "execution_count": 7,
     "metadata": {},
     "output_type": "execute_result"
    }
   ],
   "source": [
    "y_train.shape"
   ]
  },
  {
   "cell_type": "code",
   "execution_count": 8,
   "metadata": {},
   "outputs": [
    {
     "data": {
      "text/plain": [
       "(143, 30)"
      ]
     },
     "execution_count": 8,
     "metadata": {},
     "output_type": "execute_result"
    }
   ],
   "source": [
    "x_test.shape"
   ]
  },
  {
   "cell_type": "code",
   "execution_count": 9,
   "metadata": {},
   "outputs": [
    {
     "data": {
      "text/plain": [
       "(143, 1)"
      ]
     },
     "execution_count": 9,
     "metadata": {},
     "output_type": "execute_result"
    }
   ],
   "source": [
    "y_test.shape"
   ]
  },
  {
   "cell_type": "markdown",
   "metadata": {},
   "source": [
    "## Question 1\n",
    "Gini Index or Entropy is often used for measuring the “best” splitting of the data. Please compute the Entropy and Gini Index of provided data. Please use the formula from the course sludes on E3"
   ]
  },
  {
   "cell_type": "code",
   "execution_count": 12,
   "metadata": {},
   "outputs": [],
   "source": [
    "import math\n",
    "import collections"
   ]
  },
  {
   "cell_type": "markdown",
   "metadata": {},
   "source": [
    "Gini impurity: https://kknews.cc/zh-tw/code/443je5v.html"
   ]
  },
  {
   "cell_type": "code",
   "execution_count": 13,
   "metadata": {},
   "outputs": [],
   "source": [
    "def gini(sequence):\n",
    "    g = 0\n",
    "    count = np.bincount(sequence)\n",
    "    count_arr = count[np.nonzero(count)]\n",
    "    n = count_arr.sum()\n",
    "    for i in count_arr:\n",
    "        g = g + (i/n)**2\n",
    "    gini = 1.0 - g\n",
    "    return gini\n",
    "\n",
    "\n",
    "def entropy(sequence):\n",
    "    e = 0\n",
    "    count = np.bincount(sequence)\n",
    "    count_arr = count[np.nonzero(count)]\n",
    "    n = count_arr.sum()\n",
    "    for i in count_arr:\n",
    "        e = e - (i/n)*math.log2(i/n)\n",
    "    return e"
   ]
  },
  {
   "cell_type": "code",
   "execution_count": 14,
   "metadata": {},
   "outputs": [],
   "source": [
    "# 1 = class 1,\n",
    "# 2 = class 2\n",
    "data = np.array([1, 2, 1, 1, 1, 1, 2, 2, 1, 1, 2])"
   ]
  },
  {
   "cell_type": "code",
   "execution_count": 15,
   "metadata": {},
   "outputs": [
    {
     "name": "stdout",
     "output_type": "stream",
     "text": [
      "Gini of data is  0.4628099173553719\n"
     ]
    }
   ],
   "source": [
    "print(\"Gini of data is \", gini(data))"
   ]
  },
  {
   "cell_type": "code",
   "execution_count": 16,
   "metadata": {},
   "outputs": [
    {
     "name": "stdout",
     "output_type": "stream",
     "text": [
      "Entropy of data is  0.9456603046006402\n"
     ]
    }
   ],
   "source": [
    "print(\"Entropy of data is \", entropy(data))"
   ]
  },
  {
   "cell_type": "code",
   "execution_count": 17,
   "metadata": {},
   "outputs": [
    {
     "name": "stdout",
     "output_type": "stream",
     "text": [
      "Gini of data is  0.5\n",
      "Entropy of data is  1.0\n"
     ]
    }
   ],
   "source": [
    "# Test gini & entrophy function by myself\n",
    "data2 = np.array([1, 1, 1, 1, 1, 2, 2, 2, 2, 2])\n",
    "print(\"Gini of data is \", gini(data2))\n",
    "print(\"Entropy of data is \", entropy(data2))\n",
    "\n",
    "# I think the outcome is correct"
   ]
  },
  {
   "cell_type": "code",
   "execution_count": 18,
   "metadata": {},
   "outputs": [
    {
     "name": "stdout",
     "output_type": "stream",
     "text": [
      "Gini of data is  0.0\n",
      "Entropy of data is  0.0\n"
     ]
    }
   ],
   "source": [
    "# Test gini & entrophy function by myself\n",
    "data2 = np.array([1, 1, 1, 1, 1, 1, 1, 1, 1, 1])\n",
    "print(\"Gini of data is \", gini(data2))\n",
    "print(\"Entropy of data is \", entropy(data2))\n",
    "\n",
    "# I think the outcome is correct"
   ]
  },
  {
   "cell_type": "markdown",
   "metadata": {},
   "source": [
    "## Question 2\n",
    "Implement the Decision Tree algorithm (CART, Classification and Regression Trees) and trained the model by the given arguments, and print the accuracy score on the test data. You should implement two arguments for the Decision Tree algorithm\n",
    "1. **Criterion**: The function to measure the quality of a split. Your model should support “gini” for the Gini impurity and “entropy” for the information gain. \n",
    "2. **Max_depth**: The maximum depth of the tree. If Max_depth=None, then nodes are expanded until all leaves are pure. Max_depth=1 equals to split data once\n"
   ]
  },
  {
   "cell_type": "code",
   "execution_count": 19,
   "metadata": {},
   "outputs": [],
   "source": [
    "# Use stack to record the depth of tree\n",
    "from collections.abc import Iterable\n",
    "\n",
    "\n",
    "class Stack:\n",
    "    def __init__(self, initial_data):\n",
    "        self.stack = []\n",
    "        self.initial_data = initial_data\n",
    "\n",
    "        # Is initial_data iterable ?\n",
    "        if isinstance(initial_data, Iterable):\n",
    "            self.stack = list(initial_data)\n",
    "\n",
    "        else:\n",
    "            raise NotImplementedError('Initial＿data was not iterable data')\n",
    "    # python Interpreter\n",
    "\n",
    "    def __repr__(self):\n",
    "        return \"Stack(initial_data={!r})\".format(self.initial_data)\n",
    "\n",
    "    def __str__(self):\n",
    "        return \"stack({})\".format(self.stack)\n",
    "\n",
    "    # return: int\n",
    "    def __len__(self):\n",
    "        return len(self.stack)\n",
    "\n",
    "    def __getitem__(self, i):\n",
    "        return self.stack[i]\n",
    "\n",
    "    @property\n",
    "    def is_empty(self):\n",
    "        return len(self.stack) == 0\n",
    "\n",
    "    def push(self, data):\n",
    "        self.stack.append(data)\n",
    "\n",
    "    # return: data that pop out\n",
    "    def pop(self):\n",
    "        if not self.is_empty:\n",
    "            return self.stack.pop()\n",
    "\n",
    "    # return: top element in stack\n",
    "    def peek(self):\n",
    "        return self.stack[-1]"
   ]
  },
  {
   "cell_type": "code",
   "execution_count": 20,
   "metadata": {},
   "outputs": [],
   "source": [
    "class Leaf:\n",
    "    def __init__(self, data, label):\n",
    "        self.data = data\n",
    "        self.label = label\n",
    "        self.target_class = np.argmax(np.bincount(np.array(label.iloc[:, 0])))\n",
    "\n",
    "\n",
    "class Decision_Node:\n",
    "    def __init__(self,\n",
    "                 question,\n",
    "                 true_branch,\n",
    "                 false_branch,\n",
    "                 threshold):\n",
    "        self.question = question\n",
    "        self.true_branch = true_branch\n",
    "        self.false_branch = false_branch\n",
    "        self.threshold = threshold"
   ]
  },
  {
   "cell_type": "code",
   "execution_count": 21,
   "metadata": {},
   "outputs": [],
   "source": [
    "class DecisionTree():\n",
    "    def __init__(self, criterion='gini', max_depth=None):\n",
    "        self.criterion = criterion\n",
    "        self.max_depth = max_depth\n",
    "        self.depth_record = []\n",
    "        self.stack = Stack(self.depth_record)\n",
    "        self.stack.push(1)\n",
    "        self.n = 0\n",
    "        self.total = 0\n",
    "        return None\n",
    "\n",
    "    def questions(self, data, label):\n",
    "        best_gain = 0  # keep track of the best information gain\n",
    "        best_question = None  # keep train of the feature / value that produced it\n",
    "        #current_uncertainty = gini(rows)\n",
    "        features_num = data.shape[1]\n",
    "\n",
    "        for i in range(features_num):\n",
    "            col = pd.DataFrame(data.iloc[:, i])\n",
    "            left, right, left_label, right_label, threshold = self.partition(\n",
    "                data, list(col.columns), label)\n",
    "            # Skip this split if it doesn't divide the dataset.\n",
    "            if left.shape[0] == 0 or right.shape[0] == 0:\n",
    "                continue\n",
    "            # Calculate the information gain from this split\n",
    "            p = float(left.shape[0]) / (left.shape[0] + right.shape[0])\n",
    "            left_arr = np.array(left_label.iloc[:, 0])\n",
    "            right_arr = np.array(right_label.iloc[:, 0])\n",
    "\n",
    "            if self.criterion == 'gini':\n",
    "                gain = gini(\n",
    "                    np.array(label.iloc[:, 0])) - p * gini(left_arr) - (1 - p) * gini(right_arr)\n",
    "            else:\n",
    "                gain = entropy(np.array(\n",
    "                    label.iloc[:, 0])) - p * entropy(left_arr) - (1 - p) * entropy(right_arr)\n",
    "            if gain >= best_gain:\n",
    "\n",
    "                best_gain, best_question = gain, list(col.columns)\n",
    "\n",
    "        return best_gain, best_question\n",
    "\n",
    "    def fit(self, X, y):\n",
    "        gain, question = self.questions(X, y)\n",
    "        n = self.stack.pop()\n",
    "        if gain == 0 or n == self.max_depth:\n",
    "            return Leaf(X, y)\n",
    "        self.stack.push(n+1)\n",
    "        self.stack.push(n+1)\n",
    "        left, right, label_l, label_r, threshold = self.partition(\n",
    "            X, question, y)\n",
    "        left_branch = self.fit(left, label_l)\n",
    "        right_branch = self.fit(right, label_r)\n",
    "        return Decision_Node(question, left_branch, right_branch, threshold)\n",
    "\n",
    "    def partition(self, data, question, label):\n",
    "        true_rows, false_rows = [], []\n",
    "        col = data[question]\n",
    "        criteria = float(col.mean())\n",
    "        for ind in range(len(col)):\n",
    "            if float(col.iloc[ind]) >= criteria:\n",
    "                true_rows.append(ind)\n",
    "            else:\n",
    "                false_rows.append(ind)\n",
    "        left = data.iloc[true_rows, :]\n",
    "        label_l = label.iloc[true_rows, :]\n",
    "        right = data.iloc[false_rows, :]\n",
    "        label_r = label.iloc[false_rows, :]\n",
    "        return left, right, label_l, label_r, criteria\n",
    "\n",
    "    def partition_test(self, data, label, question, criteria):\n",
    "        true_rows, false_rows = [], []\n",
    "        col = data[question]\n",
    "        for ind in range(len(col)):\n",
    "            if float(col.iloc[ind]) >= criteria:\n",
    "                true_rows.append(ind)\n",
    "            else:\n",
    "                false_rows.append(ind)\n",
    "        left = data.iloc[true_rows, :]\n",
    "        label_l = label.iloc[true_rows, :]\n",
    "        right = data.iloc[false_rows, :]\n",
    "        label_r = label.iloc[false_rows, :]\n",
    "        return left, right, label_l, label_r\n",
    "\n",
    "    def prediction(self, tree, test, label):\n",
    "        if isinstance(tree, Leaf):\n",
    "            tree.data = test\n",
    "            tree.label = label\n",
    "            return\n",
    "        # partition the test data by question and criteria\n",
    "        left, right, label_l, label_r = self.partition_test(\n",
    "            test, label, tree.question, tree.threshold)\n",
    "        if left.empty or right.empty:\n",
    "            return Leaf(test, label)\n",
    "        self.prediction(tree.true_branch, left, label_l)\n",
    "        self.prediction(tree.false_branch, right, label_r)\n",
    "        return"
   ]
  },
  {
   "cell_type": "markdown",
   "metadata": {},
   "source": [
    "https://github.com/random-forests/tutorials/blob/master/decision_tree.ipynb?fbclid=IwAR3niNPEZ5a36SUjaNXn2BbbDwlVnRkfGER5lPPDo_arrQWXEDFfC7wmu1A"
   ]
  },
  {
   "cell_type": "code",
   "execution_count": 22,
   "metadata": {},
   "outputs": [],
   "source": [
    "n = 0\n",
    "total = 0\n",
    "arr = 0.0\n",
    "\n",
    "\n",
    "def accuracy_count(node):\n",
    "    # Base case: we've reached a leaf\n",
    "    global n, total, arr\n",
    "    if isinstance(node, Leaf):\n",
    "        total = total + len(np.array(node.label.iloc[:, 0]))\n",
    "        c = np.array(node.label.iloc[:, 0])\n",
    "        n = n + np.max(np.bincount(c))\n",
    "        arr = float(n/total)\n",
    "        return\n",
    "    accuracy_count(node.true_branch)\n",
    "    accuracy_count(node.false_branch)\n",
    "\n",
    "\n",
    "def accuracy(node):\n",
    "    global n, total, arr\n",
    "    n = 0\n",
    "    total = 0\n",
    "    arr = 0\n",
    "    accuracy_count(node)\n",
    "    return arr"
   ]
  },
  {
   "cell_type": "code",
   "execution_count": 23,
   "metadata": {},
   "outputs": [],
   "source": [
    "def print_tree(node, spacing=\"\"):\n",
    "\n",
    "   # 要改為印出 label 數量\n",
    "\n",
    "    # Base case: we've reached a leaf\n",
    "    if isinstance(node, Leaf):\n",
    "        print(spacing + \"Leaf\", collections.Counter(\n",
    "            np.array(node.label.iloc[:, 0])), \" ,class:\", node.target_class)\n",
    "        return\n",
    "\n",
    "    # Print the question at this node\n",
    "    print(spacing + str(node.question), node.threshold)\n",
    "\n",
    "    # Call this function recursively on the true branch\n",
    "    print(spacing + '--> left')\n",
    "    print_tree(node.true_branch, spacing + \"  \")\n",
    "\n",
    "    # Call this function recursively on the false branch\n",
    "    print(spacing + '--> right:')\n",
    "    print_tree(node.false_branch, spacing + \"  \")"
   ]
  },
  {
   "cell_type": "markdown",
   "metadata": {},
   "source": [
    "### Question 2.1\n",
    "Using Criterion=‘gini’, showing the accuracy score of test data by Max_depth=3 and Max_depth=10, respectively.\n"
   ]
  },
  {
   "cell_type": "code",
   "execution_count": 24,
   "metadata": {},
   "outputs": [
    {
     "data": {
      "text/plain": [
       "0.916083916083916"
      ]
     },
     "execution_count": 24,
     "metadata": {},
     "output_type": "execute_result"
    }
   ],
   "source": [
    "clf_depth3 = DecisionTree(criterion='gini', max_depth=3)\n",
    "tree_3 = clf_depth3.fit(x_train, y_train)\n",
    "clf_depth3.prediction(tree_3, x_test, y_test)\n",
    "accuracy(tree_3)"
   ]
  },
  {
   "cell_type": "code",
   "execution_count": 25,
   "metadata": {},
   "outputs": [
    {
     "name": "stdout",
     "output_type": "stream",
     "text": [
      "['worst area'] 889.1626760563385\n",
      "--> left\n",
      "  ['worst concave points'] 0.18283400000000008\n",
      "  --> left\n",
      "    Leaf Counter({0: 20})  ,class: 0\n",
      "  --> right:\n",
      "    Leaf Counter({0: 25, 1: 1})  ,class: 0\n",
      "--> right:\n",
      "  ['worst concavity'] 0.1884026941580757\n",
      "  --> left\n",
      "    Leaf Counter({1: 36, 0: 10})  ,class: 1\n",
      "  --> right:\n",
      "    Leaf Counter({1: 50, 0: 1})  ,class: 1\n"
     ]
    }
   ],
   "source": [
    "print_tree(tree_3)"
   ]
  },
  {
   "cell_type": "code",
   "execution_count": 26,
   "metadata": {},
   "outputs": [
    {
     "data": {
      "text/plain": [
       "0.96875"
      ]
     },
     "execution_count": 26,
     "metadata": {},
     "output_type": "execute_result"
    }
   ],
   "source": [
    "clf_depth10 = DecisionTree(criterion='gini', max_depth=10)\n",
    "tree_10 = clf_depth10.fit(x_train, y_train)\n",
    "clf_depth10.prediction(tree_10, x_test, y_test)\n",
    "accuracy(tree_10)"
   ]
  },
  {
   "cell_type": "code",
   "execution_count": 28,
   "metadata": {},
   "outputs": [],
   "source": [
    "tree_list = []"
   ]
  },
  {
   "cell_type": "code",
   "execution_count": 29,
   "metadata": {},
   "outputs": [],
   "source": [
    "tree_list.append(tree_3)"
   ]
  },
  {
   "cell_type": "code",
   "execution_count": 30,
   "metadata": {},
   "outputs": [],
   "source": [
    "tree_list.append(tree_10)"
   ]
  },
  {
   "cell_type": "code",
   "execution_count": 32,
   "metadata": {},
   "outputs": [
    {
     "data": {
      "text/plain": [
       "2"
      ]
     },
     "execution_count": 32,
     "metadata": {},
     "output_type": "execute_result"
    }
   ],
   "source": [
    "len(tree_list)"
   ]
  },
  {
   "cell_type": "markdown",
   "metadata": {},
   "source": [
    "### Question 2.2\n",
    "Using Max_depth=3, showing the accuracy score of test data by Criterion=‘gini’ and Criterion=’entropy’, respectively.\n"
   ]
  },
  {
   "cell_type": "code",
   "execution_count": 53,
   "metadata": {},
   "outputs": [
    {
     "data": {
      "text/plain": [
       "0.916083916083916"
      ]
     },
     "execution_count": 53,
     "metadata": {},
     "output_type": "execute_result"
    }
   ],
   "source": [
    "clf_gini = DecisionTree(criterion='gini', max_depth=3)\n",
    "tree_g = clf_gini.fit(x_train, y_train)\n",
    "clf_gini.prediction(tree_g, x_test, y_test)\n",
    "accuracy(tree_g)"
   ]
  },
  {
   "cell_type": "code",
   "execution_count": 54,
   "metadata": {},
   "outputs": [
    {
     "data": {
      "text/plain": [
       "0.916083916083916"
      ]
     },
     "execution_count": 54,
     "metadata": {},
     "output_type": "execute_result"
    }
   ],
   "source": [
    "clf_entropy = DecisionTree(criterion='entropy', max_depth=3)\n",
    "tree_e = clf_entropy.fit(x_train, y_train)\n",
    "clf_entropy.prediction(tree_e, x_test, y_test)\n",
    "accuracy(tree_e)"
   ]
  },
  {
   "cell_type": "markdown",
   "metadata": {},
   "source": [
    "- Note: All of your accuracy scores should over 0.9\n",
    "- Note: You should get the same results when re-building the model with the same arguments,  no need to prune the trees\n",
    "- Hint: You can use the recursive method to build the nodes\n"
   ]
  },
  {
   "cell_type": "markdown",
   "metadata": {},
   "source": [
    "## Question 3\n",
    "Plot the [feature importance](https://sefiks.com/2020/04/06/feature-importance-in-decision-trees/) of your Decision Tree model. You can get the feature importance by counting the feature used for splitting data.\n",
    "\n",
    "- You can simply plot the feature counts for building tree without normalize the importance\n",
    "\n",
    "![image](https://i2.wp.com/sefiks.com/wp-content/uploads/2020/04/c45-fi-results.jpg?w=481&ssl=1)"
   ]
  },
  {
   "cell_type": "code",
   "execution_count": 27,
   "metadata": {},
   "outputs": [],
   "source": [
    "question_list = []\n",
    "\n",
    "\n",
    "def print_tree_feature(node, spacing=\"\"):\n",
    "    global question_list\n",
    "    if isinstance(node, Leaf):\n",
    "        return\n",
    "\n",
    "    question_list.append(str(node.question))\n",
    "\n",
    "    # Call this function recursively on the true branch\n",
    "    print_tree_feature(node.true_branch, spacing + \"  \")\n",
    "\n",
    "    # Call this function recursively on the false branch\n",
    "    print_tree_feature(node.false_branch, spacing + \"  \")"
   ]
  },
  {
   "cell_type": "code",
   "execution_count": 28,
   "metadata": {},
   "outputs": [
    {
     "data": {
      "text/plain": [
       "[\"['worst area']\",\n",
       " \"['worst concave points']\",\n",
       " \"['worst concave points']\",\n",
       " \"['mean texture']\",\n",
       " \"['worst symmetry']\",\n",
       " \"['worst concavity']\",\n",
       " \"['worst fractal dimension']\",\n",
       " \"['worst concavity']\",\n",
       " \"['worst concave points']\",\n",
       " \"['worst texture']\",\n",
       " \"['worst symmetry']\",\n",
       " \"['smoothness error']\",\n",
       " \"['worst concavity']\",\n",
       " \"['worst concave points']\",\n",
       " \"['worst texture']\",\n",
       " \"['mean smoothness']\",\n",
       " \"['worst smoothness']\",\n",
       " \"['worst compactness']\",\n",
       " \"['worst concave points']\",\n",
       " \"['mean texture']\",\n",
       " \"['worst area']\",\n",
       " \"['worst concavity']\",\n",
       " \"['worst symmetry']\",\n",
       " \"['area error']\",\n",
       " \"['mean fractal dimension']\",\n",
       " \"['concave points error']\",\n",
       " \"['area error']\",\n",
       " \"['worst concave points']\"]"
      ]
     },
     "execution_count": 28,
     "metadata": {},
     "output_type": "execute_result"
    }
   ],
   "source": [
    "print_tree_feature(tree_10)\n",
    "question_list"
   ]
  },
  {
   "cell_type": "code",
   "execution_count": 48,
   "metadata": {},
   "outputs": [
    {
     "data": {
      "text/plain": [
       "Counter({\"['worst area']\": 2,\n",
       "         \"['worst concave points']\": 6,\n",
       "         \"['mean texture']\": 2,\n",
       "         \"['worst symmetry']\": 3,\n",
       "         \"['worst concavity']\": 4,\n",
       "         \"['worst fractal dimension']\": 1,\n",
       "         \"['worst texture']\": 2,\n",
       "         \"['smoothness error']\": 1,\n",
       "         \"['mean smoothness']\": 1,\n",
       "         \"['worst smoothness']\": 1,\n",
       "         \"['worst compactness']\": 1,\n",
       "         \"['area error']\": 2,\n",
       "         \"['mean fractal dimension']\": 1,\n",
       "         \"['concave points error']\": 1})"
      ]
     },
     "execution_count": 48,
     "metadata": {},
     "output_type": "execute_result"
    }
   ],
   "source": [
    "import collections\n",
    "feature_dic = collections.Counter(question_list)\n",
    "feature_dic"
   ]
  },
  {
   "cell_type": "code",
   "execution_count": 49,
   "metadata": {},
   "outputs": [],
   "source": [
    "dic = sorted(feature_dic.items(), key=lambda x: x[1])"
   ]
  },
  {
   "cell_type": "code",
   "execution_count": 52,
   "metadata": {},
   "outputs": [
    {
     "data": {
      "image/png": "[encoded data removed]",
      "text/plain": [
       "<Figure size 432x288 with 1 Axes>"
      ]
     },
     "metadata": {
      "needs_background": "light"
     },
     "output_type": "display_data"
    }
   ],
   "source": [
    "import matplotlib.pylab as plt\n",
    "x, y = zip(*dic)\n",
    "plt.barh(x, y, align='center', alpha=0.8)\n",
    "plt.show()"
   ]
  },
  {
   "cell_type": "markdown",
   "metadata": {},
   "source": [
    "## Question 4\n",
    "implement the Random Forest algorithm by using the CART you just implemented from question 2. You should implement three arguments for the Random Forest.\n",
    "\n",
    "1. **N_estimators**: The number of trees in the forest. \n",
    "2. **Max_features**: The number of random select features to consider when looking for the best split\n",
    "3. **Bootstrap**: Whether bootstrap samples are used when building tree\n"
   ]
  },
  {
   "cell_type": "markdown",
   "metadata": {},
   "source": [
    "https://www.youtube.com/watch?v=J4Wdy0Wc_xQ"
   ]
  },
  {
   "cell_type": "markdown",
   "metadata": {},
   "source": [
    "https://rstudio-pubs-static.s3.amazonaws.com/378052_30d987a09ea54b6db5aa1e82f5dce6bf.html"
   ]
  },
  {
   "cell_type": "code",
   "execution_count": 176,
   "metadata": {},
   "outputs": [],
   "source": [
    "class RandomForest():\n",
    "    def __init__(self, n_estimators, max_features, boostrap=True, criterion='gini', max_depth=None):\n",
    "        self.n_estimators = n_estimators\n",
    "        self.max_features = max_features\n",
    "        self.boostrap = boostrap\n",
    "        self.criterion = criterion\n",
    "        self.max_depth = max_depth\n",
    "        self.depth_record = []\n",
    "        self.stack = Stack(self.depth_record)\n",
    "        self.stack.push(1)\n",
    "        self.forest = []\n",
    "        self.n = 0\n",
    "        self.total = 0\n",
    "        return None\n",
    "\n",
    "    # If bootstrap=False, then each tree is built on all training samples.\n",
    "    # I set 35% data randomly choosed when bootstrap == True\n",
    "    def data_bootstrap(self, data):\n",
    "        return data.sample(frac=1.0, replace=True)\n",
    "\n",
    "    # randomly select n features and choose the suitable feature from these n data\n",
    "    def choose_feature(self,):\n",
    "        feature_list = np.random.choice(feature_names, size=int(\n",
    "            self.max_features), replace=False, p=None)\n",
    "        return feature_list\n",
    "\n",
    "    def questions(self, data, label):\n",
    "        best_gain = 0  # keep track of the best information gain\n",
    "        best_question = None  # keep train of the feature / value that produced it\n",
    "        #current_uncertainty = gini(rows)\n",
    "        features = self.choose_feature()\n",
    "\n",
    "        for i in range(len(features)):\n",
    "            col = data[[features[i]]]\n",
    "            left, right, left_label, right_label, threshold = self.partition(\n",
    "                data, list(col.columns), label)\n",
    "            # Skip this split if it doesn't divide the dataset.\n",
    "            if left.shape[0] == 0 or right.shape[0] == 0:\n",
    "                continue\n",
    "            # Calculate the information gain from this split\n",
    "            p = float(left.shape[0]) / (left.shape[0] + right.shape[0])\n",
    "            left_arr = np.array(left_label.iloc[:, 0])\n",
    "            right_arr = np.array(right_label.iloc[:, 0])\n",
    "\n",
    "            if self.criterion == 'gini':\n",
    "                gain = gini(\n",
    "                    np.array(label.iloc[:, 0])) - p * gini(left_arr) - (1 - p) * gini(right_arr)\n",
    "            else:\n",
    "                gain = entropy(np.array(\n",
    "                    label.iloc[:, 0])) - p * entropy(left_arr) - (1 - p) * entropy(right_arr)\n",
    "\n",
    "            if gain >= best_gain:\n",
    "                best_gain, best_question = gain, list(col.columns)\n",
    "        return best_gain, best_question\n",
    "\n",
    "    def partition(self, data, question, label):\n",
    "        true_rows, false_rows = [], []\n",
    "        col = data[question]\n",
    "        criteria = float(col.mean())\n",
    "        for ind in range(len(col)):\n",
    "            if float(col.iloc[ind]) >= criteria:\n",
    "                true_rows.append(ind)\n",
    "            else:\n",
    "                false_rows.append(ind)\n",
    "        left = data.iloc[true_rows, :]\n",
    "        label_l = label.iloc[true_rows, :]\n",
    "        right = data.iloc[false_rows, :]\n",
    "        label_r = label.iloc[false_rows, :]\n",
    "        return left, right, label_l, label_r, criteria\n",
    "\n",
    "    def fit(self, X, y):\n",
    "        gain, question = self.questions(X, y)\n",
    "        n = self.stack.pop()\n",
    "        if gain == 0 or n == self.max_depth:\n",
    "            return Leaf(X, y)\n",
    "        self.stack.push(n+1)\n",
    "        self.stack.push(n+1)\n",
    "        left, right, label_l, label_r, threshold = self.partition(\n",
    "            X, question, y)\n",
    "        left_branch = self.fit(left, label_l)\n",
    "        right_branch = self.fit(right, label_r)\n",
    "        return Decision_Node(question, left_branch, right_branch, threshold)\n",
    "\n",
    "    def build_forest(self, X, y):\n",
    "        for i in range(self.n_estimators):\n",
    "            self.depth_record = []\n",
    "            self.stack = Stack(self.depth_record)\n",
    "            self.stack.push(1)\n",
    "            if self.boostrap == True:\n",
    "                data = self.data_bootstrap(X)\n",
    "                index = np.array(data.index.tolist())\n",
    "                label = y.iloc[index, :]\n",
    "                self.forest.append(self.fit(data, label))\n",
    "            else:\n",
    "                self.forest.append(self.fit(X, y))\n",
    "        return self.forest\n",
    "\n",
    "    # input data row by row\n",
    "    def prediction(self, tree, data, sequence):\n",
    "        if isinstance(tree, Leaf):\n",
    "            sequence.append(tree.target_class)\n",
    "            return\n",
    "        # partition the test data by question and criteria\n",
    "        ans = self.partition_test(data, tree.question, tree.threshold)\n",
    "        if ans == 'left':\n",
    "            self.prediction(tree.true_branch, data, sequence)\n",
    "        else:\n",
    "            self.prediction(tree.false_branch, data, sequence)\n",
    "        return\n",
    "\n",
    "    def vote(self, forest, test):\n",
    "        ans_list = []\n",
    "        n = None\n",
    "        for k in range(test.shape[0]):\n",
    "            vote_list = []\n",
    "            for i in range(len(forest)):\n",
    "                self.prediction(forest[i], test.iloc[k:k+1, :], vote_list)\n",
    "            n = np.argmax(np.bincount(vote_list))\n",
    "            ans_list.append(int(n))\n",
    "        return ans_list\n",
    "\n",
    "    def partition_test(self, data, question, criteria):\n",
    "        col = data[question]\n",
    "        if float(np.array(col)) >= float(criteria):\n",
    "            return 'left'\n",
    "        else:\n",
    "            return 'right'"
   ]
  },
  {
   "cell_type": "code",
   "execution_count": 173,
   "metadata": {},
   "outputs": [],
   "source": [
    "def forest_accuracy(pre, test):\n",
    "    test = np.array(test).flatten()\n",
    "    pre = np.array(pre)\n",
    "    count = 0\n",
    "    n = len(pre)\n",
    "    for i in range(n):\n",
    "        if pre[i] == test[i]:\n",
    "            count = count+1\n",
    "    return float(count/n)"
   ]
  },
  {
   "cell_type": "code",
   "execution_count": 182,
   "metadata": {},
   "outputs": [
    {
     "data": {
      "text/plain": [
       "0.8741258741258742"
      ]
     },
     "execution_count": 182,
     "metadata": {},
     "output_type": "execute_result"
    }
   ],
   "source": [
    "# Testing\n",
    "try1 = RandomForest(n_estimators=3, max_features=5,\n",
    "                    boostrap=True, criterion='gini', max_depth=3)\n",
    "tree1 = try1.build_forest(x_train, y_train)\n",
    "final = try1.vote(tree1, x_test)\n",
    "forest_accuracy(final, y_test)"
   ]
  },
  {
   "cell_type": "markdown",
   "metadata": {},
   "source": [
    "### Question 4.1\n",
    "Using Criterion=‘gini’, Max_depth=None, Max_features=sqrt(n_features), showing the accuracy score of test data by n_estimators=10 and n_estimators=100, respectively.\n"
   ]
  },
  {
   "cell_type": "code",
   "execution_count": 177,
   "metadata": {},
   "outputs": [
    {
     "data": {
      "text/plain": [
       "0.951048951048951"
      ]
     },
     "execution_count": 177,
     "metadata": {},
     "output_type": "execute_result"
    }
   ],
   "source": [
    "clf_10tree = RandomForest(\n",
    "    n_estimators=10, max_features=np.sqrt(x_train.shape[1]))\n",
    "tree10 = clf_10tree.build_forest(x_train, y_train)\n",
    "final10 = clf_10tree.vote(tree10, x_test)\n",
    "forest_accuracy(final10, y_test)"
   ]
  },
  {
   "cell_type": "code",
   "execution_count": 178,
   "metadata": {},
   "outputs": [
    {
     "data": {
      "text/plain": [
       "0.958041958041958"
      ]
     },
     "execution_count": 178,
     "metadata": {},
     "output_type": "execute_result"
    }
   ],
   "source": [
    "clf_100tree = RandomForest(\n",
    "    n_estimators=100, max_features=np.sqrt(x_train.shape[1]))\n",
    "tree100 = clf_100tree.build_forest(x_train, y_train)\n",
    "final100 = clf_100tree.vote(tree100, x_test)\n",
    "forest_accuracy(final100, y_test)"
   ]
  },
  {
   "cell_type": "markdown",
   "metadata": {},
   "source": [
    "### Question 4.2\n",
    "Using Criterion=‘gini’, Max_depth=None, N_estimators=10, showing the accuracy score of test data by Max_features=sqrt(n_features) and Max_features=n_features, respectively.\n"
   ]
  },
  {
   "cell_type": "code",
   "execution_count": 179,
   "metadata": {},
   "outputs": [
    {
     "data": {
      "text/plain": [
       "0.951048951048951"
      ]
     },
     "execution_count": 179,
     "metadata": {},
     "output_type": "execute_result"
    }
   ],
   "source": [
    "clf_random_features = RandomForest(n_estimators=10, max_features=np.sqrt(\n",
    "    x_train.shape[1]))\n",
    "random_tree = clf_random_features.build_forest(x_train, y_train)\n",
    "final_random = clf_random_features.vote(random_tree, x_test)\n",
    "forest_accuracy(final_random, y_test)"
   ]
  },
  {
   "cell_type": "code",
   "execution_count": 181,
   "metadata": {},
   "outputs": [
    {
     "data": {
      "text/plain": [
       "0.965034965034965"
      ]
     },
     "execution_count": 181,
     "metadata": {},
     "output_type": "execute_result"
    }
   ],
   "source": [
    "clf_all_features = RandomForest(\n",
    "    n_estimators=10, max_features=x_train.shape[1])\n",
    "random_all = clf_all_features.build_forest(x_train, y_train)\n",
    "final_all = clf_all_features.vote(random_all, x_test)\n",
    "forest_accuracy(final_all, y_test)"
   ]
  },
  {
   "cell_type": "markdown",
   "metadata": {},
   "source": [
    "- Note: Use majority votes to get the final prediction, you may get slightly different results when re-building the random forest model"
   ]
  },
  {
   "cell_type": "code",
   "execution_count": null,
   "metadata": {},
   "outputs": [],
   "source": []
  },
  {
   "cell_type": "markdown",
   "metadata": {},
   "source": [
    "## Supplementary\n",
    "If you have trouble to implement this homework, TA strongly recommend watching [this video](https://www.youtube.com/watch?v=LDRbO9a6XPU), which explains Decision Tree model clearly. But don't copy code from any resources, try to finish this homework by yourself! "
   ]
  }
 ],
 "metadata": {
  "kernelspec": {
   "display_name": "Python 3",
   "language": "python",
   "name": "python3"
  },
  "language_info": {
   "codemirror_mode": {
    "name": "ipython",
    "version": 3
   },
   "file_extension": ".py",
   "mimetype": "text/x-python",
   "name": "python",
   "nbconvert_exporter": "python",
   "pygments_lexer": "ipython3",
   "version": "3.7.4"
  }
 },
 "nbformat": 4,
 "nbformat_minor": 4
}
