{
 "cells": [
  {
   "cell_type": "markdown",
   "metadata": {},
   "source": [
    "## HW2: Linear Discriminant Analysis\n",
    "In hw2, you need to implement Fisher’s linear discriminant by using only numpy, then train your implemented model by the provided dataset and test the performance with testing data\n",
    "\n",
    "Please note that only **NUMPY** can be used to implement your model, you will get no points by calling sklearn.discriminant_analysis.LinearDiscriminantAnalysis "
   ]
  },
  {
   "cell_type": "markdown",
   "metadata": {},
   "source": [
    "## Load data"
   ]
  },
  {
   "cell_type": "code",
   "execution_count": 1,
   "metadata": {},
   "outputs": [],
   "source": [
    "import numpy as np"
   ]
  },
  {
   "cell_type": "code",
   "execution_count": 2,
   "metadata": {},
   "outputs": [],
   "source": [
    "x_train = np.load(\"x_train.npy\")\n",
    "y_train = np.load(\"y_train.npy\")\n",
    "x_test = np.load(\"x_test.npy\")\n",
    "y_test = np.load(\"y_test.npy\")"
   ]
  },
  {
   "cell_type": "code",
   "execution_count": 3,
   "metadata": {},
   "outputs": [
    {
     "name": "stdout",
     "output_type": "stream",
     "text": [
      "(750, 2)\n",
      "(750,)\n",
      "(250, 2)\n",
      "(250,)\n"
     ]
    }
   ],
   "source": [
    "print(x_train.shape)\n",
    "print(y_train.shape)\n",
    "print(x_test.shape)\n",
    "print(y_test.shape)"
   ]
  },
  {
   "cell_type": "code",
   "execution_count": 4,
   "metadata": {},
   "outputs": [
    {
     "data": {
      "text/plain": [
       "array([[ 0.04685422,  1.85744506],\n",
       "       [-1.89642928,  2.01760024],\n",
       "       [-1.83469904,  1.97235127],\n",
       "       ...,\n",
       "       [-1.30902178,  3.71940461],\n",
       "       [-0.84035215, -0.62895994],\n",
       "       [ 1.34668784, -1.16946477]])"
      ]
     },
     "execution_count": 4,
     "metadata": {},
     "output_type": "execute_result"
    }
   ],
   "source": [
    "x_train"
   ]
  },
  {
   "cell_type": "code",
   "execution_count": 5,
   "metadata": {},
   "outputs": [
    {
     "data": {
      "text/plain": [
       "array([ 1.85744506e+00,  2.01760024e+00,  1.97235127e+00,  9.06533688e-01,\n",
       "        1.17585762e+00, -9.87996990e-01,  1.03239291e+00,  1.54991982e+00,\n",
       "        8.15788269e-02,  4.55796463e-01, -2.62092794e+00, -6.04565983e-01,\n",
       "       -1.43357521e+00, -1.77935908e+00,  3.98145923e-01,  7.03663242e-01,\n",
       "        2.23556499e+00, -1.34108130e+00, -2.62297321e+00,  1.42410264e+00,\n",
       "       -4.21338708e-01, -1.12147924e+00, -1.53544356e+00, -1.27480906e+00,\n",
       "       -1.64618521e+00, -2.53477672e+00,  3.41771370e+00,  4.92011684e-01,\n",
       "       -2.68760442e+00, -2.05492191e+00, -4.27273328e-01,  1.94723423e+00,\n",
       "        1.90411042e+00, -9.19300372e-01, -1.18993292e+00, -2.58269724e+00,\n",
       "       -1.70180941e+00, -2.27801342e+00,  1.11758224e+00, -2.06569516e+00,\n",
       "       -5.42282431e-01,  1.51957268e+00, -1.31626132e+00, -1.61899258e+00,\n",
       "       -5.38396049e-01,  1.54570045e+00, -1.77083280e+00,  2.75154536e+00,\n",
       "        1.07404332e+00,  1.22408341e+00, -9.70500397e-01, -1.59381767e+00,\n",
       "       -1.60984883e+00, -1.29827907e+00,  1.51241068e+00,  2.31609055e+00,\n",
       "        1.42230847e+00,  1.03669691e+00,  2.91389252e+00, -2.49003620e+00,\n",
       "       -4.81648117e-01, -8.57218555e-03, -5.35646133e-01, -2.16818769e+00,\n",
       "        2.15713589e+00, -1.64324507e+00, -1.32121576e+00, -9.69636472e-01,\n",
       "        1.99144543e+00, -1.26843668e+00, -1.53066885e-01,  1.18251803e+00,\n",
       "       -5.41968046e-01, -2.51170436e+00, -2.12598231e+00, -2.38974195e-01,\n",
       "       -1.47865933e+00,  6.84874908e-01, -1.04829318e+00, -1.64099693e+00,\n",
       "        2.64024720e-02, -8.45246694e-01, -1.06113778e+00, -1.27699776e+00,\n",
       "       -2.25057017e+00,  3.06029055e-01,  7.40538629e-01, -1.27629091e+00,\n",
       "       -6.94710517e-01, -1.17403235e+00, -1.45793628e+00,  4.54460800e-01,\n",
       "        9.24923536e-01, -1.81579567e+00,  3.71960561e-01,  1.83249410e+00,\n",
       "       -2.73938443e+00,  1.14517604e+00,  8.90011544e-01,  2.51719673e-01,\n",
       "        1.62941840e-01,  1.24044072e+00, -2.35891318e-01, -9.67181236e-01,\n",
       "        1.97732620e+00,  5.01081404e-01, -6.72234744e-01,  1.99455744e+00,\n",
       "       -1.39525660e+00,  1.21736629e+00,  1.09088502e+00,  2.74191185e+00,\n",
       "       -7.67986419e-01, -5.53225822e-01,  6.75011650e-01,  7.20672397e-01,\n",
       "        1.36812471e+00, -1.56741662e+00,  1.91760981e+00, -1.87095178e+00,\n",
       "       -2.28070799e+00,  4.24533043e-01, -7.87816351e-01, -2.02919183e+00,\n",
       "        2.40206559e+00,  2.99515125e+00, -2.52356573e+00,  1.48009428e+00,\n",
       "        9.41472208e-01, -1.05096070e+00, -7.44399848e-01,  8.75264618e-01,\n",
       "        1.34334298e+00,  1.25037329e+00,  2.65819852e+00, -1.99212300e+00,\n",
       "       -6.78499326e-01,  5.59431396e-01, -9.58904670e-01, -9.85079724e-01,\n",
       "        1.54202085e-02, -2.22142429e+00,  2.91280561e+00, -1.71242162e+00,\n",
       "        2.28687556e+00,  1.07601700e+00,  1.28111599e+00,  3.12953147e+00,\n",
       "       -2.07831513e+00,  1.16788061e+00,  2.04910050e+00, -1.53622030e+00,\n",
       "        2.07770276e+00,  1.27856128e+00, -1.05996180e+00, -6.63969634e-01,\n",
       "        3.37410223e-01, -8.04970444e-01,  7.36774382e-01,  1.41047705e-01,\n",
       "        1.06918881e+00,  3.63734659e-01,  8.33043311e-01,  2.49881269e+00,\n",
       "       -2.67631816e+00, -8.25637131e-01, -4.92819009e-01, -6.36922811e-01,\n",
       "        2.13776001e+00, -9.09048176e-01, -6.65611374e-01, -6.34392808e-01,\n",
       "       -2.06090752e+00, -2.34727458e+00, -1.90031868e+00,  1.93899650e+00,\n",
       "        1.50472666e+00, -9.32780522e-01, -1.15129811e+00,  1.28137920e+00,\n",
       "        3.13076576e+00,  4.05550983e-01, -2.31001456e+00,  2.65237239e+00,\n",
       "       -1.13578587e+00,  1.89239570e+00, -6.61476722e-01,  4.80657509e-01,\n",
       "        2.15846093e+00, -2.10825781e+00, -1.89141587e+00, -1.11192300e+00,\n",
       "        2.07934558e+00,  1.59805478e+00, -1.63902322e+00,  6.02046347e-01,\n",
       "       -8.21399850e-01,  1.55108592e+00,  1.14157527e+00, -1.03793707e+00,\n",
       "       -2.16157666e+00, -1.65130800e-01, -2.28011180e+00, -2.29694227e+00,\n",
       "       -1.73585968e+00,  1.43639686e+00,  1.62581772e+00,  1.13483274e+00,\n",
       "       -1.97732857e+00,  2.49800511e+00,  3.39883130e+00,  1.21528673e+00,\n",
       "       -1.90535456e+00,  1.42360837e+00, -2.02394776e+00, -2.66474465e+00,\n",
       "        1.11551647e+00, -1.66284503e+00, -1.68717627e+00, -4.84696772e-01,\n",
       "       -7.04931814e-01,  6.95528893e-01,  2.26341901e+00,  2.50537952e+00,\n",
       "        9.44995640e-01,  9.12452985e-01, -3.92801301e-01, -9.19146038e-01,\n",
       "        8.56788102e-01,  2.01223786e+00,  3.20188799e+00, -8.06336503e-01,\n",
       "        1.29459704e+00,  8.17931155e-02, -2.27473579e+00, -1.13991976e+00,\n",
       "       -1.30798245e+00, -1.63276731e+00,  4.40107768e-01,  1.83239640e+00,\n",
       "       -1.67034452e+00, -2.19587751e+00,  5.56675128e-01, -6.10317107e-01,\n",
       "       -2.17260547e+00, -6.58308711e-01,  1.07068571e+00, -3.10311433e+00,\n",
       "       -6.65606013e-01,  1.40492310e+00, -6.32229423e-03,  1.64218054e-01,\n",
       "       -3.82224475e-01, -2.17098358e+00,  3.49014072e+00, -9.88041300e-01,\n",
       "        2.06117020e+00,  3.11254637e-01, -2.35134654e+00,  2.02744947e+00,\n",
       "        1.33908809e+00,  1.42499299e+00, -6.03751210e-01,  1.58614033e+00,\n",
       "        7.48122607e-01,  5.23143718e-01,  3.77639327e-01,  1.32483095e-01,\n",
       "        1.20300782e+00, -7.61927368e-01,  5.54930017e-01,  1.57164576e+00,\n",
       "       -1.25208711e-01,  1.48600857e-01, -2.15774741e+00, -1.42403312e+00,\n",
       "        2.83647765e+00, -1.68672492e+00,  4.04026539e+00, -7.05328485e-01,\n",
       "        9.35798220e-01, -7.16749621e-01,  5.13170071e-01,  2.59611203e+00,\n",
       "        1.99505177e+00, -1.93377350e+00,  3.53242547e-01, -3.59098429e-01,\n",
       "       -2.08617482e+00,  2.04408079e+00,  3.13886351e+00, -8.31874422e-01,\n",
       "       -1.24368297e+00, -1.25779651e+00, -1.22827665e+00, -6.15674808e-01,\n",
       "        7.71853842e-01,  1.68323095e+00, -2.41041004e-01, -1.54915917e+00,\n",
       "       -1.24234439e+00, -8.59395724e-01, -1.88819706e+00, -1.77178204e+00,\n",
       "       -8.89668858e-01, -3.17227774e-01, -3.49269320e-01,  7.16179772e-02,\n",
       "       -6.71572135e-01,  9.90682163e-02,  1.99979043e+00, -2.08642088e+00,\n",
       "       -1.33869422e+00,  1.27449509e+00, -3.33501524e-01,  3.91117744e-01,\n",
       "        3.68187922e+00, -2.10322883e+00, -3.09159277e-01, -4.98689689e-01,\n",
       "       -2.05683674e+00,  2.55662397e+00, -1.28792750e+00, -3.52589787e-01,\n",
       "        2.19440878e+00,  1.74324769e+00, -5.39102564e-01,  2.28246402e+00,\n",
       "       -4.22366498e-01,  1.10018415e+00, -2.18015024e+00, -9.05003720e-01,\n",
       "       -1.04022250e+00, -8.81747570e-01,  9.36626108e-01,  1.14328095e+00,\n",
       "        2.27605558e-01, -2.66830949e+00,  6.51714502e-01, -2.64152629e+00,\n",
       "        7.31424470e-01, -3.46550229e+00,  7.84248701e-01, -5.18097548e-01,\n",
       "        1.85294509e+00,  1.66816096e+00,  1.41433570e+00, -2.35846363e+00,\n",
       "       -1.70579539e-01, -1.40895179e+00, -1.17634772e+00, -2.28328038e+00,\n",
       "       -1.95140185e+00,  7.37819944e-01,  9.01053568e-01,  3.27447275e+00,\n",
       "       -7.37683321e-01, -5.59421384e-01,  2.46944910e+00,  2.84882558e+00,\n",
       "       -1.73948375e+00, -1.44188010e+00, -1.71038921e-01, -8.66153356e-01,\n",
       "       -9.32924607e-01, -6.72700191e-01,  3.37147709e+00, -2.84683690e+00,\n",
       "       -4.64241932e-01, -2.67280424e+00,  1.90695626e+00,  2.23957098e+00,\n",
       "       -1.39072207e+00,  1.71107017e+00, -5.59493572e-01, -3.40735499e-01,\n",
       "       -1.72110701e+00, -1.61605949e+00, -6.95198298e-01, -1.74067516e+00,\n",
       "       -2.85415367e-01,  1.23069730e+00,  1.80099444e+00, -1.61857556e+00,\n",
       "        1.30610854e+00,  1.14890741e+00,  5.80993753e-01, -1.59805332e-01,\n",
       "       -2.07154337e+00, -1.03845586e+00,  2.07419210e+00,  1.45854769e+00,\n",
       "       -8.80368483e-01,  1.86452373e+00,  2.42878081e+00, -2.39389002e+00,\n",
       "        1.54980397e+00, -1.31705912e+00, -1.36790159e+00, -2.51386836e-01,\n",
       "       -1.37881131e+00,  9.31290811e-01,  2.02727728e+00, -1.05115265e+00,\n",
       "        1.18918862e-02,  7.79487145e-01,  5.30083945e-02,  2.03317670e+00,\n",
       "       -1.48440203e+00, -2.13524246e+00, -2.18269728e-01, -6.65833014e-02,\n",
       "       -2.40397322e+00,  2.65267681e-01, -1.33723783e+00, -1.45548477e+00,\n",
       "        1.20055013e+00,  1.30181642e+00, -8.76722096e-01,  6.70732875e-01,\n",
       "       -1.80561429e+00,  1.90503216e-01, -1.57381215e+00,  1.95597850e+00,\n",
       "       -1.99315486e+00, -4.72488495e-01,  3.01857979e+00,  4.61356099e-01,\n",
       "        5.42856404e-01,  1.04465678e+00,  1.03444407e+00, -5.77092692e-01,\n",
       "       -7.83532152e-01,  3.10743957e+00,  2.23042972e-02,  1.85872017e+00,\n",
       "        7.19918590e-01,  8.40698675e-01,  2.42644648e+00, -8.41013638e-01,\n",
       "       -1.74005554e+00,  1.12816701e+00, -2.52495629e+00,  8.31086584e-01,\n",
       "       -3.21803271e-01, -2.75463088e+00,  2.25248538e+00, -1.74532543e+00,\n",
       "        4.29863779e-01, -8.85330056e-01, -4.41407652e-01, -1.93524660e+00,\n",
       "       -1.55837198e+00, -1.68871700e+00, -1.24354283e+00, -9.77011790e-01,\n",
       "       -1.00114630e+00, -1.02812231e+00, -1.73868892e+00, -6.07503837e-01,\n",
       "        2.12590225e+00, -1.47007013e+00, -4.36488364e-01,  7.04159773e-01,\n",
       "       -2.51445928e+00, -4.71629263e-01, -1.28778702e+00, -2.11451699e+00,\n",
       "        1.87030549e-01, -4.17376719e-01, -2.49852381e+00,  2.19773396e+00,\n",
       "        1.46575766e+00, -2.30172849e+00,  1.62499604e+00,  1.14225674e+00,\n",
       "        2.18164893e-02,  1.99937777e+00, -1.27909535e+00, -8.50716266e-01,\n",
       "        2.11274565e+00, -1.23328484e+00,  1.11816017e+00, -9.27589104e-01,\n",
       "        8.45912784e-01,  1.55734961e+00,  2.00698356e+00, -9.05794625e-01,\n",
       "        1.00258572e+00,  1.47194617e+00,  2.05232914e-01,  6.71960064e-01,\n",
       "       -5.22093242e-01, -1.34246997e+00, -3.52315445e-01,  5.99915540e-01,\n",
       "        6.01629297e-01,  5.39773892e-01, -1.79801708e+00,  1.16283460e+00,\n",
       "       -2.06017575e+00, -3.55886537e-01, -2.94063477e-03,  1.66036182e+00,\n",
       "       -1.39176883e+00, -1.23408415e-01,  3.26321369e+00, -1.10038221e+00,\n",
       "        1.75799162e+00, -1.43388670e+00,  1.43225289e+00, -1.62101209e+00,\n",
       "       -1.32632786e+00, -7.35792613e-01,  2.39404281e+00, -2.18116388e+00,\n",
       "       -5.22296545e-01, -2.75998795e-01, -7.97471119e-01, -9.27290280e-02,\n",
       "        1.45658507e+00, -2.06582042e+00,  1.35768713e+00, -1.51579553e+00,\n",
       "        1.14083315e+00,  1.01954964e+00,  2.44194769e+00, -1.13732805e+00,\n",
       "        2.52365958e+00,  1.71035960e+00, -1.23056846e+00,  1.52051307e+00,\n",
       "       -1.27178306e+00, -1.91883099e+00, -4.82113628e-01, -9.28757579e-01,\n",
       "        4.33362022e-01,  1.10102175e+00,  3.22720352e-01, -1.27743321e+00,\n",
       "        3.10607730e+00, -1.33119431e+00,  4.62345962e+00, -2.58430278e+00,\n",
       "        2.02520458e+00, -1.37822882e+00, -1.17205307e+00,  2.65486240e+00,\n",
       "        1.46383260e-01,  9.80125923e-01,  1.77747563e+00, -2.55078817e+00,\n",
       "       -2.54522532e+00, -1.26336279e+00,  9.99138857e-01, -1.20993924e+00,\n",
       "       -6.76359605e-01,  1.85360245e+00,  1.23158199e+00, -2.78810257e+00,\n",
       "        8.43625924e-01,  4.97590758e-01, -1.30889634e+00,  2.50315147e+00,\n",
       "        2.23676886e+00, -2.34895406e+00,  2.60270343e+00,  1.79126188e+00,\n",
       "        1.77661867e+00, -1.73584933e+00, -1.73096852e+00, -2.82337652e-01,\n",
       "        6.05249755e-01, -2.16558081e+00, -2.13178757e+00, -1.58618541e+00,\n",
       "        1.19137052e+00, -1.89721737e+00, -2.56666043e-01,  1.42277433e+00,\n",
       "       -2.03649638e-01,  2.82873428e+00,  1.67695937e+00, -7.73126013e-01,\n",
       "        1.80849998e+00, -8.73133851e-01, -1.42661203e+00,  1.81991583e+00,\n",
       "       -5.77457174e-01,  1.24634258e+00,  2.23732460e+00,  1.81335307e+00,\n",
       "        1.87899828e+00,  2.93866532e+00,  3.65342786e+00,  9.39364037e-01,\n",
       "        1.29577591e+00, -8.72524532e-01, -1.94041487e-01,  1.64035711e+00,\n",
       "       -6.87509906e-01,  9.37646380e-01, -2.02941910e+00,  1.01085920e+00,\n",
       "       -2.48528743e+00, -5.53405647e-02,  5.23593569e-02,  3.55810286e+00,\n",
       "       -2.54974328e+00,  1.18779895e-02,  1.67770098e+00, -2.12046921e+00,\n",
       "       -1.46665663e+00, -5.39446804e-01,  2.91054852e+00,  1.40160758e+00,\n",
       "       -1.53922839e+00,  6.02878618e-01, -4.03708827e-02,  1.46069964e+00,\n",
       "       -7.46019449e-01,  1.27650892e+00,  1.43558400e+00, -5.17238397e-01,\n",
       "        2.36829629e+00, -4.97644197e-01,  7.17582832e-01,  3.07779548e+00,\n",
       "        1.65891937e+00,  1.22859625e+00, -1.71201906e+00, -2.96806477e+00,\n",
       "        9.26874117e-01, -2.82039909e+00,  1.63364296e+00,  1.15166429e+00,\n",
       "       -1.72006176e+00, -2.09231290e+00,  1.39117506e+00, -1.13804418e+00,\n",
       "        2.25418633e+00,  9.40614818e-01,  1.05514775e+00,  1.75069818e+00,\n",
       "        1.25000829e+00, -9.15251817e-01,  1.76206722e+00, -6.40687378e-01,\n",
       "        2.41554438e+00,  1.54751186e+00,  5.45746155e-01, -1.80945717e+00,\n",
       "       -6.53709482e-01,  8.44715170e-01,  1.74918498e+00,  1.04208733e+00,\n",
       "        7.53465501e-01, -1.23319423e+00, -8.44878166e-01, -2.56848261e+00,\n",
       "        1.91820982e+00, -2.09872615e+00, -7.38725917e-01, -1.41688842e-01,\n",
       "        1.89972727e+00,  1.56809564e+00, -2.24903335e+00,  8.92445185e-01,\n",
       "        1.96373795e+00,  3.78374393e-01, -6.91300143e-01, -6.58344613e-02,\n",
       "        1.90758543e+00,  1.75733860e+00,  7.40817468e-01, -1.48317807e+00,\n",
       "       -1.93591353e+00, -1.66263432e+00,  1.54877675e+00,  9.76093447e-01,\n",
       "        1.82087760e-01,  8.99952166e-01,  2.22685964e+00, -6.76041638e-01,\n",
       "       -2.21840223e+00,  2.49303889e+00, -1.24232940e+00,  9.10556460e-01,\n",
       "        6.92503213e-01, -4.76958205e-01, -3.89008855e+00, -1.23323152e+00,\n",
       "        2.55108779e+00, -2.49508894e+00, -1.37527718e+00,  1.47458139e+00,\n",
       "        2.48973371e-01, -1.27350651e+00, -1.92895209e+00,  2.67011726e-01,\n",
       "       -1.31061117e+00, -3.06314649e+00,  1.94130551e+00,  7.21281301e-01,\n",
       "       -1.73092976e-01, -3.13430797e-01, -1.76750718e+00, -1.38742882e+00,\n",
       "        6.27706322e-01, -1.98543967e+00, -1.80540979e+00, -2.76332555e+00,\n",
       "        9.41551922e-01, -1.18378904e+00, -4.79602590e-01, -1.30682936e+00,\n",
       "       -2.98344685e+00, -2.17299899e+00,  3.14285355e+00,  1.62372352e+00,\n",
       "       -9.77716569e-01, -1.38986126e+00,  2.17431768e-01, -1.28058809e+00,\n",
       "        3.40573385e+00,  2.50182914e+00, -2.45476089e+00, -3.49070956e+00,\n",
       "       -2.24671870e-01, -1.37266931e+00,  1.73984343e+00, -2.51923524e+00,\n",
       "        3.16254824e+00, -1.53602208e+00,  1.63235993e+00, -2.50150117e+00,\n",
       "        1.74078693e+00,  2.34363844e+00,  1.51291629e+00, -1.69082371e+00,\n",
       "        1.98307413e+00, -8.55076190e-01, -8.44435389e-01, -2.03256080e+00,\n",
       "       -1.30472401e+00,  2.21956062e+00,  3.28726808e-01,  3.71940461e+00,\n",
       "       -6.28959939e-01, -1.16946477e+00])"
      ]
     },
     "execution_count": 5,
     "metadata": {},
     "output_type": "execute_result"
    }
   ],
   "source": [
    "x_train[:, 1]\n",
    "# Matrix同一axis的方向上取範圍，這是list做不到的\n",
    "# https://www.ycc.idv.tw/python-play-with-data_3.html"
   ]
  },
  {
   "cell_type": "code",
   "execution_count": 6,
   "metadata": {},
   "outputs": [
    {
     "data": {
      "text/plain": [
       "array([1, 1, 1, 1, 1, 0, 1, 1, 0, 1, 0, 0, 0, 0, 1, 1, 1, 0, 0, 1, 0, 0,\n",
       "       0, 0, 0, 0, 1, 1, 0, 0, 1, 1, 1, 1, 0, 0, 0, 0, 1, 0, 0, 1, 0, 0,\n",
       "       1, 1, 0, 1, 1, 1, 0, 0, 0, 0, 1, 1, 1, 1, 1, 0, 0, 0, 0, 0, 1, 0,\n",
       "       0, 0, 1, 0, 1, 1, 0, 0, 0, 0, 0, 1, 0, 0, 0, 0, 0, 0, 0, 1, 1, 0,\n",
       "       0, 0, 0, 1, 1, 0, 1, 1, 0, 1, 1, 1, 0, 1, 0, 0, 1, 1, 0, 1, 0, 1,\n",
       "       1, 1, 0, 0, 1, 1, 1, 0, 1, 0, 0, 0, 0, 0, 1, 1, 0, 1, 1, 0, 0, 1,\n",
       "       1, 1, 1, 0, 1, 1, 0, 1, 1, 0, 1, 0, 1, 1, 1, 1, 0, 1, 1, 0, 1, 1,\n",
       "       0, 0, 1, 1, 1, 1, 1, 1, 1, 1, 0, 0, 0, 0, 1, 0, 0, 0, 0, 0, 0, 1,\n",
       "       1, 0, 0, 0, 1, 1, 0, 1, 0, 1, 0, 1, 1, 0, 0, 0, 1, 1, 0, 0, 0, 1,\n",
       "       1, 0, 0, 0, 0, 0, 0, 1, 1, 1, 0, 1, 1, 1, 0, 1, 0, 0, 1, 0, 0, 0,\n",
       "       0, 1, 1, 1, 1, 1, 0, 0, 1, 1, 1, 0, 1, 1, 0, 0, 0, 0, 1, 1, 0, 0,\n",
       "       1, 0, 0, 0, 1, 0, 1, 1, 1, 1, 0, 0, 1, 0, 1, 1, 0, 1, 1, 1, 0, 1,\n",
       "       1, 1, 1, 1, 1, 0, 1, 1, 0, 0, 0, 1, 1, 0, 1, 0, 1, 1, 1, 1, 1, 0,\n",
       "       1, 0, 0, 1, 1, 0, 0, 0, 0, 0, 1, 1, 0, 0, 0, 0, 0, 0, 0, 0, 0, 1,\n",
       "       0, 1, 1, 0, 0, 1, 0, 0, 1, 0, 1, 0, 0, 1, 0, 0, 1, 1, 0, 1, 0, 1,\n",
       "       0, 0, 0, 0, 1, 1, 1, 0, 1, 0, 1, 0, 1, 0, 1, 1, 1, 0, 0, 0, 0, 0,\n",
       "       0, 1, 1, 1, 0, 0, 1, 1, 0, 0, 1, 0, 0, 0, 1, 0, 0, 0, 1, 1, 0, 1,\n",
       "       1, 1, 0, 0, 0, 0, 1, 1, 1, 0, 1, 1, 1, 0, 0, 0, 1, 1, 0, 1, 1, 0,\n",
       "       1, 0, 0, 1, 0, 1, 1, 1, 1, 1, 1, 1, 0, 0, 1, 0, 0, 1, 0, 0, 1, 1,\n",
       "       1, 1, 0, 0, 0, 1, 0, 0, 1, 1, 1, 1, 1, 1, 0, 1, 0, 1, 1, 1, 1, 0,\n",
       "       0, 1, 0, 1, 1, 0, 1, 0, 1, 0, 0, 0, 0, 0, 0, 1, 0, 0, 0, 0, 1, 0,\n",
       "       0, 1, 0, 0, 0, 0, 0, 0, 0, 1, 1, 0, 1, 1, 1, 1, 0, 0, 1, 0, 1, 0,\n",
       "       1, 1, 1, 1, 1, 1, 1, 1, 0, 0, 0, 1, 1, 1, 0, 1, 0, 0, 1, 1, 0, 0,\n",
       "       1, 0, 1, 0, 1, 0, 0, 0, 1, 0, 1, 1, 0, 0, 1, 0, 1, 0, 1, 1, 1, 0,\n",
       "       1, 1, 0, 1, 0, 0, 0, 0, 1, 1, 1, 1, 1, 0, 1, 0, 1, 1, 0, 1, 1, 1,\n",
       "       1, 0, 0, 0, 1, 0, 0, 1, 1, 0, 1, 1, 0, 1, 1, 0, 1, 1, 1, 0, 0, 0,\n",
       "       1, 0, 0, 0, 1, 0, 0, 1, 1, 1, 1, 0, 1, 0, 0, 1, 1, 1, 1, 1, 1, 1,\n",
       "       1, 1, 1, 0, 0, 1, 1, 1, 0, 1, 0, 1, 0, 1, 0, 1, 1, 0, 0, 0, 1, 1,\n",
       "       0, 1, 0, 1, 0, 1, 1, 1, 1, 1, 0, 1, 1, 1, 0, 0, 1, 0, 1, 1, 0, 0,\n",
       "       1, 0, 1, 1, 1, 1, 1, 0, 1, 1, 1, 1, 1, 0, 0, 1, 1, 1, 1, 0, 0, 0,\n",
       "       1, 0, 0, 0, 1, 0, 0, 1, 1, 1, 0, 0, 1, 1, 1, 0, 0, 0, 1, 1, 1, 1,\n",
       "       1, 0, 0, 1, 0, 1, 1, 0, 0, 0, 1, 0, 0, 1, 1, 0, 0, 0, 0, 0, 1, 1,\n",
       "       1, 1, 0, 1, 1, 0, 0, 0, 1, 0, 0, 0, 0, 0, 1, 1, 0, 0, 1, 0, 1, 1,\n",
       "       0, 0, 0, 0, 1, 0, 1, 0, 1, 0, 1, 1, 1, 0, 1, 0, 0, 0, 0, 1, 0, 1,\n",
       "       1, 0], dtype=int64)"
      ]
     },
     "execution_count": 6,
     "metadata": {},
     "output_type": "execute_result"
    }
   ],
   "source": [
    "y_train   # y是分群 label"
   ]
  },
  {
   "cell_type": "code",
   "execution_count": 7,
   "metadata": {},
   "outputs": [],
   "source": [
    "import matplotlib.pyplot as plt\n",
    "from matplotlib import style\n",
    "%matplotlib inline"
   ]
  },
  {
   "cell_type": "code",
   "execution_count": 8,
   "metadata": {},
   "outputs": [],
   "source": [
    "# Sepereate 2 group\n",
    "class1 = []\n",
    "class2 = []\n",
    "\n",
    "for i in range(750):\n",
    "    if y_train[i] == 0:\n",
    "        class1.append(x_train[i])\n",
    "    else:\n",
    "        class2.append(x_train[i])\n",
    "class1 = np.array(class1)\n",
    "class2 = np.array(class2)"
   ]
  },
  {
   "cell_type": "code",
   "execution_count": 16,
   "metadata": {
    "scrolled": false
   },
   "outputs": [
    {
     "data": {
      "image/png": "[encoded data removed]",
      "text/plain": [
       "<Figure size 432x288 with 1 Axes>"
      ]
     },
     "metadata": {
      "needs_background": "light"
     },
     "output_type": "display_data"
    }
   ],
   "source": [
    "# Take a look at the data\n",
    "plt.plot(class1[:, 0], class1[:, 1], '.')\n",
    "plt.plot(class2[:, 0], class2[:, 1], '.', color='red')\n",
    "\n",
    "plt.show()"
   ]
  },
  {
   "cell_type": "code",
   "execution_count": 17,
   "metadata": {},
   "outputs": [
    {
     "name": "stdout",
     "output_type": "stream",
     "text": [
      "(369, 2)\n",
      "(381, 2)\n"
     ]
    }
   ],
   "source": [
    "print(class1.shape)\n",
    "print(class2.shape)"
   ]
  },
  {
   "cell_type": "markdown",
   "metadata": {},
   "source": [
    "## 1. Compute the mean vectors mi, (i=1,2) of each 2 classes"
   ]
  },
  {
   "cell_type": "code",
   "execution_count": 18,
   "metadata": {},
   "outputs": [
    {
     "name": "stdout",
     "output_type": "stream",
     "text": [
      "[ 1.3559426  -1.34746216]\n",
      "[-1.29735587  1.29096203]\n"
     ]
    }
   ],
   "source": [
    "# Your code HERE\n",
    "# 要分群 目前的是全部的 mean\n",
    "m1 = np.array([class1[:, 0].mean(), class1[:, 1].mean()])\n",
    "m2 = np.array([class2[:, 0].mean(), class2[:, 1].mean()])\n",
    "print(m1)\n",
    "print(m2)"
   ]
  },
  {
   "cell_type": "code",
   "execution_count": 19,
   "metadata": {},
   "outputs": [
    {
     "name": "stdout",
     "output_type": "stream",
     "text": [
      "mean vector of class 1: [ 1.3559426  -1.34746216] mean vector of class 2: [-1.29735587  1.29096203]\n"
     ]
    }
   ],
   "source": [
    "print(f\"mean vector of class 1: {m1}\", f\"mean vector of class 2: {m2}\")"
   ]
  },
  {
   "cell_type": "code",
   "execution_count": 20,
   "metadata": {},
   "outputs": [
    {
     "data": {
      "image/png": "[encoded data removed]",
      "text/plain": [
       "<Figure size 432x288 with 1 Axes>"
      ]
     },
     "metadata": {
      "needs_background": "light"
     },
     "output_type": "display_data"
    }
   ],
   "source": [
    "# Lable m1,m2 by 'x' on the graph\n",
    "plt.plot(class1[:, 0], class1[:, 1], '.')\n",
    "plt.plot(class2[:, 0], class2[:, 1], '.', color='red')\n",
    "plt.plot(m1[0], m1[1], 'x', color='black')\n",
    "plt.plot(m2[0], m2[1], 'x', color='black')\n",
    "\n",
    "plt.show()"
   ]
  },
  {
   "cell_type": "markdown",
   "metadata": {},
   "source": [
    "## 2. Compute the Within-class scatter matrix SW"
   ]
  },
  {
   "cell_type": "code",
   "execution_count": 22,
   "metadata": {},
   "outputs": [
    {
     "name": "stdout",
     "output_type": "stream",
     "text": [
      "[[ 388.64001349 -228.92177708]\n",
      " [-228.92177708  665.56910433]]\n"
     ]
    }
   ],
   "source": [
    "# Your code HERE (應該是這個)\n",
    "S1 = np.zeros((x_train.shape[1], x_train.shape[1]))\n",
    "S2 = np.zeros((x_train.shape[1], x_train.shape[1]))\n",
    "Sw = np.zeros((x_train.shape[1], x_train.shape[1]))\n",
    "\n",
    "for i in class1:\n",
    "    t = (i - m1).reshape(1, x_train.shape[1])\n",
    "    S1 += np.dot(t.T, t)\n",
    "for j in class2:\n",
    "    t = (j - m2).reshape(1, x_train.shape[1])\n",
    "    S2 += np.dot(t.T, t)\n",
    "\n",
    "Sw = S1+S2\n",
    "print(Sw)"
   ]
  },
  {
   "cell_type": "code",
   "execution_count": 26,
   "metadata": {},
   "outputs": [
    {
     "name": "stdout",
     "output_type": "stream",
     "text": [
      "Within-class scatter matrix SW: [[ 388.64001349 -228.92177708]\n",
      " [-228.92177708  665.56910433]]\n"
     ]
    }
   ],
   "source": [
    "assert Sw.shape == (2, 2)\n",
    "print(f\"Within-class scatter matrix SW: {Sw}\")"
   ]
  },
  {
   "cell_type": "markdown",
   "metadata": {},
   "source": [
    "## 3.  Compute the Between-class scatter matrix SB"
   ]
  },
  {
   "cell_type": "code",
   "execution_count": 27,
   "metadata": {},
   "outputs": [
    {
     "name": "stdout",
     "output_type": "stream",
     "text": [
      "[[ 7.03999279 -7.00052687]\n",
      " [-7.00052687  6.9612822 ]]\n"
     ]
    }
   ],
   "source": [
    "# Your code HERE (對的?) in 2 class\n",
    "mu1_mu2 = (m1 - m2).reshape(1, x_train.shape[1])\n",
    "\n",
    "Sb = np.dot(mu1_mu2.T, mu1_mu2)\n",
    "print(Sb)"
   ]
  },
  {
   "cell_type": "code",
   "execution_count": 28,
   "metadata": {},
   "outputs": [
    {
     "name": "stdout",
     "output_type": "stream",
     "text": [
      "Between-class scatter matrix SB: [[ 7.03999279 -7.00052687]\n",
      " [-7.00052687  6.9612822 ]]\n"
     ]
    }
   ],
   "source": [
    "assert Sb.shape == (2, 2)\n",
    "print(f\"Between-class scatter matrix SB: {Sb}\")"
   ]
  },
  {
   "cell_type": "markdown",
   "metadata": {},
   "source": [
    "## 4. Compute the Fisher’s linear discriminant"
   ]
  },
  {
   "cell_type": "code",
   "execution_count": 29,
   "metadata": {},
   "outputs": [
    {
     "name": "stdout",
     "output_type": "stream",
     "text": [
      "[2.02940745e-02 8.67361738e-19]\n",
      "[[ 0.94096648  0.70511642]\n",
      " [-0.33849976  0.70909156]]\n"
     ]
    }
   ],
   "source": [
    "S_inv_w = np.linalg.inv(Sw)\n",
    "S_inv_b = S_inv_w.dot(Sb)\n",
    "\n",
    "eig_vals, eig_vecs = np.linalg.eig(S_inv_b)\n",
    "print(eig_vals)\n",
    "print(eig_vecs)"
   ]
  },
  {
   "cell_type": "code",
   "execution_count": 30,
   "metadata": {},
   "outputs": [
    {
     "data": {
      "text/plain": [
       "array([[ 0.94096648,  0.70511642],\n",
       "       [-0.33849976,  0.70909156]])"
      ]
     },
     "execution_count": 30,
     "metadata": {},
     "output_type": "execute_result"
    }
   ],
   "source": [
    "idx = eig_vals.argsort()[::-1]\n",
    "\n",
    "eig_vals = eig_vals[idx]  # Not needed\n",
    "eig_vecs = eig_vecs[:, idx]\n",
    "eig_vecs"
   ]
  },
  {
   "cell_type": "code",
   "execution_count": 31,
   "metadata": {},
   "outputs": [
    {
     "name": "stdout",
     "output_type": "stream",
     "text": [
      "[[ 0.94096648]\n",
      " [-0.33849976]]\n"
     ]
    }
   ],
   "source": [
    "W = eig_vecs[:, :1]\n",
    "print(W)"
   ]
  },
  {
   "cell_type": "markdown",
   "metadata": {},
   "source": [
    "We can just get the first eigen vector since we want to reduce the dimension to 1.\n",
    "What does it means???\n",
    "Reference\n",
    "http://www.adeveloperdiary.com/data-science/machine-learning/linear-discriminant-analysis-from-theory-to-code/?fbclid=IwAR3Nou9j6wDA3AtKlHNU1L4wJmQqb2TEa7sQUyrwEmfKaABNRqQaF4V23cE"
   ]
  },
  {
   "cell_type": "code",
   "execution_count": 32,
   "metadata": {},
   "outputs": [
    {
     "data": {
      "image/png": "[encoded data removed]",
      "text/plain": [
       "<Figure size 432x288 with 1 Axes>"
      ]
     },
     "metadata": {
      "needs_background": "light"
     },
     "output_type": "display_data"
    }
   ],
   "source": [
    "# Lable m1,m2 by 'x' on the graph\n",
    "for i in x_train:\n",
    "    proj = (np.dot(i, W) * W) / np.dot(W.T, W)\n",
    "    plt.scatter(proj[0], proj[1], color='black')\n",
    "\n",
    "plt.plot(class1[:, 0], class1[:, 1], '.')\n",
    "plt.plot(class2[:, 0], class2[:, 1], '.', color='red')\n",
    "plt.plot(m1[0], m1[1], 'x', color='black')\n",
    "plt.plot(m2[0], m2[1], 'x', color='black')\n",
    "\n",
    "plt.show()"
   ]
  },
  {
   "cell_type": "code",
   "execution_count": 33,
   "metadata": {},
   "outputs": [
    {
     "name": "stdout",
     "output_type": "stream",
     "text": [
      " Fisher’s linear discriminant: [[ 0.94096648]\n",
      " [-0.33849976]]\n"
     ]
    }
   ],
   "source": [
    "assert W.shape == (2, 1)\n",
    "print(f\" Fisher’s linear discriminant: {W}\")"
   ]
  },
  {
   "cell_type": "code",
   "execution_count": 34,
   "metadata": {},
   "outputs": [
    {
     "data": {
      "image/png": "[encoded data removed]",
      "text/plain": [
       "<Figure size 432x288 with 1 Axes>"
      ]
     },
     "metadata": {
      "needs_background": "light"
     },
     "output_type": "display_data"
    }
   ],
   "source": [
    "plt.plot(x_test[:, 0], x_test[:, 1], '.')\n",
    "\n",
    "plt.show()"
   ]
  },
  {
   "cell_type": "markdown",
   "metadata": {},
   "source": [
    "# Threshold Method (自己練習用)"
   ]
  },
  {
   "cell_type": "code",
   "execution_count": 35,
   "metadata": {},
   "outputs": [
    {
     "data": {
      "image/png": "[encoded data removed]",
      "text/plain": [
       "<Figure size 432x288 with 1 Axes>"
      ]
     },
     "metadata": {
      "needs_background": "light"
     },
     "output_type": "display_data"
    }
   ],
   "source": [
    "proj_list = []\n",
    "for i in x_test:\n",
    "    proj = (np.dot(i, W) * W) / np.dot(W.T, W)\n",
    "    proj_list.append(proj)\n",
    "\n",
    "plt.plot(x_test[:, 0], x_test[:, 1], '.')\n",
    "proj_list = np.array(proj_list)\n",
    "plt.plot(proj_list[:, 0], proj_list[:, 1], '.', color='black')\n",
    "\n",
    "plt.show()"
   ]
  },
  {
   "cell_type": "markdown",
   "metadata": {},
   "source": [
    "For a two class problem the classifier is: \n",
    "\n",
    " X in C2 if  W^TX + w1 > 0  or  X in C1 if W^TX + w1 < 0\n",
    "\n",
    "In this the threshold value, w1 we should calculate. The simple metric for this threshold is the average of the projected means of the two classes on to W axis.\n",
    "\n",
    "i.e if m1 is the projected mean of class 1, and m2 is the projected mean of class 2. Then,\n",
    " \n",
    "w1 = (m1+m2)/2"
   ]
  },
  {
   "cell_type": "code",
   "execution_count": 36,
   "metadata": {},
   "outputs": [
    {
     "name": "stdout",
     "output_type": "stream",
     "text": [
      "[ 0.034935   -0.01256738]\n"
     ]
    }
   ],
   "source": [
    "proj_list1 = []\n",
    "proj_list2 = []\n",
    "\n",
    "for i in class1:\n",
    "    proj = (np.dot(i, W) * W) / np.dot(W.T, W)\n",
    "    proj_list1.append(proj)\n",
    "\n",
    "for i in class2:\n",
    "    proj = (np.dot(i, W) * W) / np.dot(W.T, W)\n",
    "    proj_list2.append(proj)\n",
    "proj_list1 = np.array(proj_list1)\n",
    "proj_list2 = np.array(proj_list2)\n",
    "\n",
    "mu1 = np.array([proj_list1[:, 0].mean(), proj_list1[:, 1].mean()])\n",
    "mu2 = np.array([proj_list2[:, 0].mean(), proj_list2[:, 1].mean()])\n",
    "\n",
    "Threshold = (mu1+mu2)/2\n",
    "\n",
    "print(Threshold)"
   ]
  },
  {
   "cell_type": "code",
   "execution_count": 37,
   "metadata": {},
   "outputs": [
    {
     "data": {
      "image/png": "[encoded data removed]",
      "text/plain": [
       "<Figure size 432x288 with 1 Axes>"
      ]
     },
     "metadata": {
      "needs_background": "light"
     },
     "output_type": "display_data"
    }
   ],
   "source": [
    "proj_list=[]\n",
    "for i in x_test:\n",
    "    proj = (np.dot(i, W) * W) / np.dot(W.T, W)\n",
    "    proj_list.append(proj)\n",
    "\n",
    "plt.plot(x_test[:,0], x_test[:,1], '.')\n",
    "proj_list = np.array(proj_list)\n",
    "plt.plot(proj_list[:,0], proj_list[:,1], '.',color='black')\n",
    "plt.plot(Threshold[0], Threshold[1], 'x',color='red')\n",
    "\n",
    "plt.show()"
   ]
  },
  {
   "cell_type": "markdown",
   "metadata": {},
   "source": [
    "http://aitechcentral.com/blog/implementation-of-fishers-lda-in-python/\n",
    "    \n",
    "So given a test pattern X then if\n",
    "\n",
    "WTX > Threshold then X is classified as Class 1\n",
    "WTX < Threshold then X is classified as Class 2"
   ]
  },
  {
   "cell_type": "code",
   "execution_count": 38,
   "metadata": {},
   "outputs": [
    {
     "name": "stdout",
     "output_type": "stream",
     "text": [
      "(250, 1)\n"
     ]
    }
   ],
   "source": [
    "y_pred = []\n",
    "for i in x_test:\n",
    "    proj = (np.dot(i, W) * W) / np.dot(W.T, W)\n",
    "    if proj[0] < Threshold[0]:\n",
    "        y_pred.append([1])\n",
    "    else:\n",
    "        y_pred.append([0])\n",
    "\n",
    "y_pred = np.array(y_pred)\n",
    "print(y_pred.shape)"
   ]
  },
  {
   "cell_type": "code",
   "execution_count": 39,
   "metadata": {},
   "outputs": [],
   "source": [
    "from sklearn.metrics import accuracy_score\n",
    "acc = accuracy_score(y_test, y_pred)"
   ]
  },
  {
   "cell_type": "code",
   "execution_count": 40,
   "metadata": {},
   "outputs": [
    {
     "name": "stdout",
     "output_type": "stream",
     "text": [
      "Accuracy of test-set 0.964\n"
     ]
    }
   ],
   "source": [
    "print(f\"Accuracy of test-set {acc}\")"
   ]
  },
  {
   "cell_type": "markdown",
   "metadata": {},
   "source": [
    "## 5. Project the test data by linear discriminant to get the class prediction by nearest-neighbor rule and calculate the accuracy score \n",
    "you can use accuracy_score function from sklearn.metric.accuracy_score"
   ]
  },
  {
   "cell_type": "code",
   "execution_count": 43,
   "metadata": {},
   "outputs": [],
   "source": [
    "proj_train = []   \n",
    "for i in x_train:\n",
    "    proj = (np.dot(i, W) * W) / np.dot(W.T, W)\n",
    "    proj_train.append(proj)\n",
    "\n",
    "proj_train = np.array(proj_train)\n"
   ]
  },
  {
   "cell_type": "code",
   "execution_count": 50,
   "metadata": {},
   "outputs": [
    {
     "data": {
      "text/plain": [
       "(250, 1)"
      ]
     },
     "execution_count": 50,
     "metadata": {},
     "output_type": "execute_result"
    }
   ],
   "source": [
    "# proj_list  -->  Projected x_test\n",
    "# proj_train -->  Projected x_train\n",
    "# Calculate euclidean_distance for each point\n",
    "def euclidean_distance(a,b):\n",
    "    dist = np.linalg.norm(a - b)\n",
    "    return dist\n",
    "\n",
    "predict =[]\n",
    "for i in  proj_list :\n",
    "    distance =[]\n",
    "    for j in range(len(proj_train)):\n",
    "        d = euclidean_distance(i,proj_train[j])\n",
    "        distance.append([d])\n",
    "    distance = np.array(distance)\n",
    "    s = np.where(distance==np.min(distance))\n",
    "    s= int(s[0])\n",
    "    if y_train[s]==0:\n",
    "        predict.append([0])\n",
    "    else:\n",
    "        predict.append([1])\n",
    "        \n",
    "\n",
    "predict = np.array(predict)\n",
    "            \n",
    "predict.shape   \n",
    "    "
   ]
  },
  {
   "cell_type": "code",
   "execution_count": 51,
   "metadata": {},
   "outputs": [],
   "source": [
    "from sklearn.metrics import accuracy_score\n",
    "acc = accuracy_score(y_test, predict)"
   ]
  },
  {
   "cell_type": "code",
   "execution_count": 52,
   "metadata": {},
   "outputs": [
    {
     "name": "stdout",
     "output_type": "stream",
     "text": [
      "Accuracy of test-set 0.916\n"
     ]
    }
   ],
   "source": [
    "print(f\"Accuracy of test-set {acc}\")"
   ]
  },
  {
   "cell_type": "markdown",
   "metadata": {},
   "source": [
    "## 6. Plot the 1) best projection line on the training data and show the slope and intercept on the title (you can choose any value of intercept for better visualization) 2) colorize the data with each class 3) project all data points on your projection line. Your result should look like [this image](https://i.imgur.com/tubMQpw.jpg)"
   ]
  },
  {
   "cell_type": "code",
   "execution_count": 53,
   "metadata": {},
   "outputs": [
    {
     "data": {
      "text/plain": [
       "-0.3597362616341834"
      ]
     },
     "execution_count": 53,
     "metadata": {},
     "output_type": "execute_result"
    }
   ],
   "source": [
    "slope = float(W[1]/W[0])\n",
    "\n",
    "slope"
   ]
  },
  {
   "cell_type": "code",
   "execution_count": 59,
   "metadata": {},
   "outputs": [
    {
     "data": {
      "image/png": "[encoded data removed]",
      "text/plain": [
       "<Figure size 432x288 with 1 Axes>"
      ]
     },
     "metadata": {
      "needs_background": "light"
     },
     "output_type": "display_data"
    }
   ],
   "source": [
    "# Project Training data\n",
    "proj_train = []\n",
    "\n",
    "for i in x_train:\n",
    "    proj = (np.dot(i, W) * W) / np.dot(W.T, W)\n",
    "    proj_train.append(proj)\n",
    "\n",
    "proj_train = np.array(proj_train)\n",
    "\n",
    "\n",
    "for i in class1:\n",
    "    proj = (np.dot(i, W) * W) / np.dot(W.T, W)\n",
    "    plt.scatter(i[0], i[1], s=5, color='blue')\n",
    "    plt.scatter(proj[0], proj[1], s=5, color='blue')\n",
    "    plt.plot([i[0], proj[0]], [i[1], proj[1]],\n",
    "             color='blue', linewidth=0.3, alpha=0.5)\n",
    "\n",
    "for i in class2:\n",
    "    proj = (np.dot(i, W) * W) / np.dot(W.T, W)\n",
    "    plt.scatter(i[0], i[1], s=5, color='red')\n",
    "    plt.scatter(proj[0], proj[1], s=5, color='red')\n",
    "    plt.plot([i[0], proj[0]], [i[1], proj[1]],\n",
    "             color='blue', linewidth=0.3, alpha=0.5)\n",
    "\n",
    "plt.plot(proj_train[:, 0], proj_train[:, 1], color='blue', linewidth=0.5)\n",
    "#plt.plot([-1, 5], [-slope, 5*slope], color='k', linestyle='-', linewidth=1)\n",
    "plt.title(\"Projection Line: slope= -0.3597362616341834, b=0\", fontsize=10)\n",
    "\n",
    "plt.show()"
   ]
  },
  {
   "cell_type": "code",
   "execution_count": null,
   "metadata": {},
   "outputs": [],
   "source": []
  }
 ],
 "metadata": {
  "kernelspec": {
   "display_name": "Python 3",
   "language": "python",
   "name": "python3"
  },
  "language_info": {
   "codemirror_mode": {
    "name": "ipython",
    "version": 3
   },
   "file_extension": ".py",
   "mimetype": "text/x-python",
   "name": "python",
   "nbconvert_exporter": "python",
   "pygments_lexer": "ipython3",
   "version": "3.7.4"
  }
 },
 "nbformat": 4,
 "nbformat_minor": 4
}
